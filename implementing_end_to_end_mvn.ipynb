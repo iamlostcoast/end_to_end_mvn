{
 "cells": [
  {
   "cell_type": "markdown",
   "metadata": {},
   "source": [
    "## Applying and Evaluating Neural Net Architecture From \"End-to-End Multi-View Networks for Text Classification\"\n",
    "\n",
    "by Evan Baker\n",
    "\n",
    "\n",
    "\n",
    "In this notebook, I'll go through some simple EDA for the dataset provided by HumanAPI, and apply the multi-view neural network architecture from the article mentioned in the title to classifying the data."
   ]
  },
  {
   "cell_type": "code",
   "execution_count": 100,
   "metadata": {
    "collapsed": true
   },
   "outputs": [],
   "source": [
    "import os\n",
    "import numpy as np\n",
    "import pandas as pd\n",
    "\n",
    "import matplotlib.pyplot as plt\n",
    "import seaborn as sns\n",
    "%matplotlib inline"
   ]
  },
  {
   "cell_type": "code",
   "execution_count": 101,
   "metadata": {},
   "outputs": [
    {
     "name": "stdout",
     "output_type": "stream",
     "text": [
      "train_neg : count of files =  1875\n",
      "train_pos : count of files =  12500\n",
      "valid_neg : count of files =  6250\n",
      "valid_pos : count of files =  6250\n"
     ]
    }
   ],
   "source": [
    "# let's see how many files we're working with\n",
    "\n",
    "# quite a bit of class imbalance in the training data\n",
    "\n",
    "for data_dir in os.listdir('./dataset/')[1:]:\n",
    "    print data_dir, \": count of files = \", len(os.listdir('./dataset/%s' % data_dir))"
   ]
  },
  {
   "cell_type": "code",
   "execution_count": 103,
   "metadata": {
    "collapsed": true
   },
   "outputs": [
    {
     "name": "stdout",
     "output_type": "stream",
     "text": [
      "10003_1.txt 11918_2.txt 2564_2.txt  4419_3.txt  6282_4.txt  8094_2.txt\r\n",
      "10021_2.txt 11925_2.txt 2566_1.txt  4423_2.txt  6289_1.txt  8102_1.txt\r\n",
      "10030_1.txt 11939_4.txt 2567_3.txt  4426_1.txt  6301_4.txt  8115_1.txt\r\n",
      "10035_1.txt 11943_1.txt 2577_2.txt  4437_1.txt  6304_1.txt  8119_3.txt\r\n",
      "1004_4.txt  11945_3.txt 258_4.txt   4453_3.txt  630_2.txt   8126_3.txt\r\n",
      "10054_1.txt 11948_2.txt 2592_3.txt  4467_1.txt  6320_1.txt  8128_1.txt\r\n",
      "10058_1.txt 1194_1.txt  2595_3.txt  4471_4.txt  6321_3.txt  8133_1.txt\r\n",
      "10064_3.txt 1195_1.txt  25_1.txt    4475_1.txt  6323_1.txt  8144_3.txt\r\n",
      "10066_4.txt 11961_1.txt 2611_3.txt  4480_1.txt  6327_4.txt  8148_1.txt\r\n",
      "10067_3.txt 11964_4.txt 2629_4.txt  4482_2.txt  6328_4.txt  8152_2.txt\r\n",
      "10077_2.txt 11976_1.txt 2633_1.txt  4484_1.txt  6336_4.txt  8157_4.txt\r\n",
      "1007_1.txt  11980_4.txt 2634_4.txt  4493_1.txt  6345_1.txt  8160_1.txt\r\n",
      "10086_2.txt 11985_3.txt 2636_1.txt  4495_2.txt  6349_4.txt  8169_4.txt\r\n",
      "10090_1.txt 11986_1.txt 2643_1.txt  4500_4.txt  634_2.txt   8171_3.txt\r\n",
      "10099_1.txt 11987_4.txt 2645_3.txt  4506_1.txt  6352_2.txt  8176_3.txt\r\n",
      "10101_1.txt 11988_4.txt 2647_4.txt  4511_1.txt  6360_1.txt  817_4.txt\r\n",
      "10102_1.txt 11992_4.txt 2661_2.txt  4513_1.txt  6366_3.txt  8181_1.txt\r\n",
      "10103_1.txt 119_4.txt   2672_4.txt  4516_2.txt  6367_4.txt  8182_1.txt\r\n",
      "1010_4.txt  12005_1.txt 2675_1.txt  451_2.txt   6369_3.txt  8183_4.txt\r\n",
      "10111_1.txt 12012_2.txt 2678_1.txt  4521_1.txt  6376_4.txt  8187_2.txt\r\n",
      "10114_1.txt 12016_1.txt 2683_3.txt  4522_1.txt  6381_1.txt  8188_1.txt\r\n",
      "10136_2.txt 12017_3.txt 2695_3.txt  4535_1.txt  6394_1.txt  8200_2.txt\r\n",
      "10149_1.txt 12021_1.txt 2697_1.txt  4543_1.txt  641_4.txt   8203_3.txt\r\n",
      "10157_4.txt 12024_2.txt 2706_2.txt  4544_1.txt  6423_3.txt  820_1.txt\r\n",
      "10164_4.txt 1202_2.txt  2714_4.txt  4554_1.txt  6425_4.txt  8224_1.txt\r\n",
      "1016_4.txt  12032_1.txt 2719_4.txt  4555_1.txt  6430_1.txt  822_1.txt\r\n",
      "10178_3.txt 12036_1.txt 2730_3.txt  4558_4.txt  6450_1.txt  8230_4.txt\r\n",
      "10182_3.txt 12037_1.txt 2734_4.txt  4560_4.txt  6454_2.txt  8235_2.txt\r\n",
      "10192_2.txt 12043_2.txt 2736_4.txt  457_3.txt   6456_1.txt  8237_1.txt\r\n",
      "10193_1.txt 12047_1.txt 2745_4.txt  4583_1.txt  6458_1.txt  8238_1.txt\r\n",
      "10195_1.txt 12065_3.txt 2754_1.txt  4584_1.txt  6463_2.txt  823_4.txt\r\n",
      "10205_2.txt 12067_1.txt 2757_1.txt  4601_4.txt  6465_4.txt  8250_1.txt\r\n",
      "10208_3.txt 12072_2.txt 2768_2.txt  4602_3.txt  6468_3.txt  8258_2.txt\r\n",
      "10216_3.txt 12099_4.txt 2775_1.txt  4604_3.txt  6469_3.txt  8259_1.txt\r\n",
      "10219_2.txt 12103_3.txt 2780_4.txt  4608_2.txt  6470_3.txt  8264_4.txt\r\n",
      "10220_3.txt 12106_1.txt 2783_1.txt  4613_4.txt  6481_4.txt  8267_1.txt\r\n",
      "10224_4.txt 12109_4.txt 2790_4.txt  4616_3.txt  6483_1.txt  8276_2.txt\r\n",
      "10230_1.txt 12113_1.txt 2794_3.txt  461_1.txt   6495_3.txt  8279_4.txt\r\n",
      "10233_1.txt 12114_4.txt 2798_1.txt  4621_3.txt  6496_1.txt  8283_1.txt\r\n",
      "10236_1.txt 12121_4.txt 2803_2.txt  4633_3.txt  649_4.txt   8285_1.txt\r\n",
      "10246_2.txt 12125_1.txt 280_2.txt   463_4.txt   6505_1.txt  8303_2.txt\r\n",
      "10249_1.txt 12128_4.txt 2814_3.txt  4642_3.txt  6508_4.txt  8313_2.txt\r\n",
      "10250_3.txt 12130_4.txt 2820_4.txt  4643_4.txt  6522_1.txt  8318_4.txt\r\n",
      "10255_1.txt 12134_3.txt 2826_3.txt  4648_1.txt  6524_4.txt  8339_2.txt\r\n",
      "10257_1.txt 12135_1.txt 2833_1.txt  4651_3.txt  6529_3.txt  8341_1.txt\r\n",
      "10258_4.txt 12139_2.txt 2834_1.txt  4654_2.txt  6539_1.txt  8346_1.txt\r\n",
      "10261_1.txt 12160_4.txt 2844_4.txt  4660_4.txt  654_3.txt   8347_1.txt\r\n",
      "1027_1.txt  12179_2.txt 2854_3.txt  4669_4.txt  6552_3.txt  8351_4.txt\r\n",
      "10280_3.txt 12180_3.txt 2857_1.txt  4672_3.txt  6555_2.txt  8358_4.txt\r\n",
      "10290_1.txt 12203_2.txt 2868_1.txt  4674_3.txt  6559_1.txt  8359_4.txt\r\n",
      "10294_1.txt 12204_1.txt 2880_1.txt  4678_2.txt  6572_3.txt  8371_1.txt\r\n",
      "10305_4.txt 12207_1.txt 2903_1.txt  4695_4.txt  6576_1.txt  8378_1.txt\r\n",
      "10306_4.txt 12208_2.txt 2904_2.txt  46_4.txt    6584_1.txt  8383_1.txt\r\n",
      "10312_4.txt 12216_4.txt 2907_4.txt  4709_2.txt  65_4.txt    8389_1.txt\r\n",
      "10320_2.txt 12217_4.txt 2919_1.txt  470_3.txt   6606_3.txt  8394_1.txt\r\n",
      "10323_1.txt 12219_4.txt 2930_1.txt  4716_1.txt  6607_4.txt  8396_4.txt\r\n",
      "10330_1.txt 12220_1.txt 2931_4.txt  4717_1.txt  6608_1.txt  8435_1.txt\r\n",
      "10332_1.txt 12225_1.txt 2939_2.txt  4724_2.txt  6609_1.txt  8439_3.txt\r\n",
      "10336_4.txt 12227_1.txt 2942_1.txt  4727_4.txt  6611_4.txt  843_1.txt\r\n",
      "10341_1.txt 12228_1.txt 2955_1.txt  4738_4.txt  6612_1.txt  844_1.txt\r\n",
      "10348_1.txt 12230_4.txt 2958_1.txt  4740_2.txt  6615_1.txt  8450_2.txt\r\n",
      "10359_1.txt 12233_1.txt 2961_1.txt  4748_2.txt  6629_1.txt  8461_1.txt\r\n",
      "10366_1.txt 12235_2.txt 2966_1.txt  4750_2.txt  6633_1.txt  8469_1.txt\r\n",
      "10368_1.txt 12237_2.txt 296_2.txt   4753_3.txt  6635_1.txt  8485_3.txt\r\n",
      "10369_1.txt 12239_1.txt 2972_1.txt  4756_3.txt  6644_1.txt  8491_4.txt\r\n",
      "10389_4.txt 12240_1.txt 2980_4.txt  4760_1.txt  6651_1.txt  8495_3.txt\r\n",
      "10392_3.txt 12268_1.txt 2981_1.txt  4767_4.txt  6654_1.txt  8502_1.txt\r\n",
      "10408_1.txt 12277_3.txt 2998_3.txt  4774_3.txt  6662_1.txt  8513_2.txt\r\n",
      "10420_2.txt 12288_4.txt 299_1.txt   477_4.txt   6665_3.txt  8532_4.txt\r\n",
      "10422_1.txt 1228_2.txt  3000_3.txt  4792_3.txt  666_1.txt   8533_2.txt\r\n",
      "10423_1.txt 12297_1.txt 3001_3.txt  4801_4.txt  6672_1.txt  8543_3.txt\r\n",
      "10430_3.txt 12308_3.txt 3005_2.txt  4812_2.txt  6678_2.txt  8557_2.txt\r\n",
      "10436_4.txt 12317_1.txt 3011_2.txt  4814_3.txt  6687_4.txt  8559_3.txt\r\n",
      "10439_1.txt 12321_4.txt 3017_4.txt  4815_2.txt  66_4.txt    8565_1.txt\r\n",
      "10441_1.txt 12324_3.txt 3018_2.txt  4818_1.txt  6700_1.txt  8566_3.txt\r\n",
      "10446_2.txt 12337_1.txt 3035_2.txt  4819_1.txt  6706_1.txt  8568_4.txt\r\n",
      "10455_1.txt 12341_4.txt 3039_1.txt  4823_3.txt  6709_1.txt  8600_1.txt\r\n",
      "10456_1.txt 12346_1.txt 3053_1.txt  4828_1.txt  6716_3.txt  8601_1.txt\r\n",
      "10467_1.txt 12349_4.txt 3055_2.txt  4834_4.txt  6722_2.txt  8607_1.txt\r\n",
      "10479_2.txt 12350_4.txt 3057_1.txt  483_2.txt   6734_4.txt  8610_2.txt\r\n",
      "1047_2.txt  12353_1.txt 3059_1.txt  4840_4.txt  6735_4.txt  8617_1.txt\r\n",
      "10485_1.txt 12359_1.txt 305_1.txt   4849_1.txt  6742_4.txt  8620_2.txt\r\n",
      "10486_3.txt 12364_1.txt 3082_1.txt  4861_1.txt  6752_3.txt  8628_4.txt\r\n",
      "10489_4.txt 12367_2.txt 3088_2.txt  4862_1.txt  6753_4.txt  8629_1.txt\r\n",
      "1049_3.txt  12375_4.txt 3090_1.txt  486_1.txt   6755_4.txt  8630_4.txt\r\n",
      "1050_4.txt  12378_1.txt 3097_1.txt  4870_4.txt  6757_4.txt  8631_2.txt\r\n",
      "10512_1.txt 12380_1.txt 3111_1.txt  4874_2.txt  6766_3.txt  8637_4.txt\r\n",
      "10515_1.txt 12393_4.txt 3119_4.txt  487_4.txt   6768_3.txt  8645_1.txt\r\n",
      "10518_1.txt 12405_3.txt 3122_4.txt  4885_1.txt  676_4.txt   8647_1.txt\r\n",
      "10543_3.txt 1241_1.txt  3124_3.txt  4888_1.txt  6774_1.txt  8649_1.txt\r\n",
      "10544_4.txt 12424_1.txt 3128_3.txt  488_4.txt   679_3.txt   8675_3.txt\r\n",
      "10560_3.txt 12432_1.txt 3131_2.txt  4900_2.txt  67_2.txt    8682_3.txt\r\n",
      "10563_1.txt 12435_3.txt 3137_1.txt  4902_4.txt  6810_1.txt  8686_3.txt\r\n",
      "10564_4.txt 12436_3.txt 3153_2.txt  4903_3.txt  6811_4.txt  8694_2.txt\r\n",
      "10565_3.txt 12446_3.txt 3162_1.txt  4906_1.txt  6818_3.txt  8706_2.txt\r\n",
      "10577_2.txt 12454_3.txt 3170_3.txt  4928_3.txt  6821_4.txt  870_4.txt\r\n",
      "10587_1.txt 12455_4.txt 3172_2.txt  4931_1.txt  6822_2.txt  8712_4.txt\r\n",
      "10588_1.txt 12462_2.txt 3189_1.txt  4934_4.txt  6824_4.txt  8714_1.txt\r\n",
      "1059_2.txt  12467_1.txt 3197_3.txt  4936_1.txt  6827_4.txt  8717_2.txt\r\n",
      "105_2.txt   12470_1.txt 3198_3.txt  4939_1.txt  6836_3.txt  871_4.txt\r\n",
      "10609_3.txt 12492_4.txt 3210_3.txt  4946_1.txt  6838_4.txt  872_2.txt\r\n",
      "10610_1.txt 1250_4.txt  3211_1.txt  4959_3.txt  6841_1.txt  8736_3.txt\r\n",
      "10612_3.txt 1253_3.txt  3218_4.txt  4964_2.txt  6843_4.txt  8737_1.txt\r\n",
      "10615_2.txt 1254_4.txt  3221_3.txt  4968_1.txt  6859_1.txt  8740_1.txt\r\n",
      "10618_1.txt 1260_4.txt  3229_3.txt  4970_3.txt  6860_2.txt  8748_4.txt\r\n",
      "10632_1.txt 1276_1.txt  3230_4.txt  4972_3.txt  6862_1.txt  8750_3.txt\r\n",
      "10633_1.txt 127_4.txt   3242_1.txt  4980_2.txt  6867_1.txt  8753_3.txt\r\n",
      "10635_1.txt 1293_4.txt  3243_4.txt  4985_2.txt  6868_3.txt  8758_4.txt\r\n",
      "10639_1.txt 1294_1.txt  3244_3.txt  5004_3.txt  6875_2.txt  8761_3.txt\r\n",
      "10654_1.txt 1296_3.txt  3247_3.txt  5005_1.txt  6878_1.txt  8769_4.txt\r\n",
      "10659_2.txt 1299_1.txt  3249_2.txt  5006_1.txt  6885_1.txt  8776_2.txt\r\n",
      "10665_2.txt 1319_1.txt  3255_2.txt  5012_4.txt  6889_1.txt  8779_4.txt\r\n",
      "10667_3.txt 1324_1.txt  3269_4.txt  5042_3.txt  6900_1.txt  8785_1.txt\r\n",
      "1066_2.txt  1328_2.txt  3272_4.txt  5048_2.txt  6901_3.txt  8788_3.txt\r\n",
      "10676_3.txt 1330_1.txt  3279_2.txt  5059_4.txt  6905_1.txt  8796_3.txt\r\n",
      "10693_4.txt 1332_3.txt  3283_1.txt  5067_1.txt  6911_1.txt  8799_4.txt\r\n",
      "10694_1.txt 1336_3.txt  3285_1.txt  5068_4.txt  6915_4.txt  8803_4.txt\r\n",
      "10697_4.txt 1341_3.txt  3286_1.txt  5079_4.txt  6917_2.txt  8824_1.txt\r\n",
      "10718_4.txt 1343_1.txt  3296_1.txt  5083_1.txt  6926_4.txt  8825_1.txt\r\n",
      "10725_1.txt 1344_1.txt  3302_3.txt  5087_1.txt  6929_1.txt  882_4.txt\r\n",
      "10726_1.txt 1348_3.txt  3310_4.txt  5093_3.txt  693_2.txt   8840_3.txt\r\n",
      "10728_3.txt 1356_4.txt  3320_2.txt  5109_1.txt  6951_3.txt  8842_4.txt\r\n",
      "10746_4.txt 1367_1.txt  3325_1.txt  510_1.txt   6953_2.txt  8843_3.txt\r\n",
      "10750_3.txt 1376_1.txt  3326_4.txt  5126_2.txt  6958_1.txt  8847_1.txt\r\n",
      "10761_4.txt 1382_1.txt  333_3.txt   5132_2.txt  695_4.txt   8868_1.txt\r\n",
      "10766_4.txt 1395_3.txt  3342_3.txt  5136_3.txt  6963_4.txt  886_1.txt\r\n",
      "10768_1.txt 1420_3.txt  3350_3.txt  513_1.txt   6964_1.txt  8880_3.txt\r\n",
      "1076_1.txt  1426_1.txt  3364_1.txt  5153_4.txt  6970_3.txt  8882_4.txt\r\n",
      "10774_2.txt 1432_3.txt  3377_2.txt  5154_1.txt  6980_2.txt  8885_3.txt\r\n",
      "10785_1.txt 1443_4.txt  3378_2.txt  5159_2.txt  6983_3.txt  8886_3.txt\r\n",
      "10793_4.txt 1446_2.txt  337_4.txt   5171_4.txt  6997_4.txt  8891_3.txt\r\n",
      "10799_1.txt 1450_3.txt  3389_1.txt  5177_1.txt  700_4.txt   8893_4.txt\r\n",
      "10808_1.txt 1451_2.txt  3391_3.txt  5178_1.txt  7010_4.txt  889_3.txt\r\n",
      "1080_2.txt  1463_1.txt  33_3.txt    5183_4.txt  7017_4.txt  8901_1.txt\r\n",
      "10813_4.txt 1468_1.txt  3410_3.txt  5188_1.txt  7024_2.txt  8908_4.txt\r\n",
      "10821_1.txt 1469_1.txt  3416_4.txt  5199_1.txt  7040_1.txt  891_2.txt\r\n",
      "10824_2.txt 1473_4.txt  3417_4.txt  5218_4.txt  7041_1.txt  8922_4.txt\r\n",
      "10829_3.txt 147_4.txt   3421_4.txt  5219_3.txt  7042_1.txt  8940_3.txt\r\n",
      "10834_4.txt 1491_2.txt  3430_4.txt  5224_1.txt  7062_1.txt  8950_4.txt\r\n",
      "10835_4.txt 1493_1.txt  3431_4.txt  5225_4.txt  7069_4.txt  8954_4.txt\r\n",
      "10839_2.txt 1499_4.txt  3438_4.txt  5229_1.txt  7088_1.txt  8960_2.txt\r\n",
      "10840_4.txt 1500_3.txt  3440_1.txt  5236_2.txt  7099_4.txt  8963_1.txt\r\n",
      "10856_2.txt 1501_2.txt  3443_1.txt  5237_1.txt  7102_2.txt  8968_1.txt\r\n",
      "10862_3.txt 150_1.txt   3444_1.txt  5248_3.txt  710_4.txt   8975_1.txt\r\n",
      "10863_1.txt 1510_3.txt  3447_1.txt  5257_3.txt  7112_4.txt  8990_3.txt\r\n",
      "10864_1.txt 1511_1.txt  3458_1.txt  5270_2.txt  7117_1.txt  8991_2.txt\r\n",
      "10869_1.txt 1512_2.txt  345_4.txt   5271_4.txt  711_4.txt   8993_2.txt\r\n",
      "1087_1.txt  1513_1.txt  3460_1.txt  5273_4.txt  7121_1.txt  8999_4.txt\r\n",
      "1088_1.txt  1517_2.txt  3472_1.txt  527_4.txt   7131_1.txt  899_1.txt\r\n",
      "10905_3.txt 1526_1.txt  3479_1.txt  5288_1.txt  7135_3.txt  9001_1.txt\r\n",
      "10908_1.txt 1533_4.txt  347_1.txt   5291_4.txt  7138_1.txt  9012_1.txt\r\n",
      "10912_3.txt 1535_1.txt  3483_2.txt  5296_1.txt  7140_1.txt  9015_4.txt\r\n",
      "10916_3.txt 1543_1.txt  3486_2.txt  5299_2.txt  7153_3.txt  9019_1.txt\r\n",
      "10937_1.txt 1550_1.txt  3497_3.txt  5307_3.txt  7159_2.txt  9021_2.txt\r\n",
      "10961_2.txt 1552_3.txt  3498_1.txt  530_3.txt   7160_1.txt  9026_1.txt\r\n",
      "10963_1.txt 1553_3.txt  3517_1.txt  5340_3.txt  7161_3.txt  9030_1.txt\r\n",
      "10970_3.txt 1562_1.txt  3525_2.txt  5341_1.txt  7162_1.txt  9035_4.txt\r\n",
      "10976_1.txt 1567_1.txt  3531_1.txt  5356_1.txt  7166_2.txt  9036_3.txt\r\n",
      "1097_3.txt  1568_1.txt  353_4.txt   5361_1.txt  7167_3.txt  9051_3.txt\r\n",
      "10986_1.txt 1570_2.txt  3548_3.txt  5363_1.txt  7170_2.txt  9059_3.txt\r\n",
      "10988_2.txt 1575_1.txt  3550_1.txt  5364_3.txt  7172_2.txt  9065_2.txt\r\n",
      "1098_2.txt  1582_1.txt  3553_4.txt  5366_1.txt  7176_1.txt  9068_2.txt\r\n",
      "10990_1.txt 1584_1.txt  355_4.txt   5369_4.txt  7182_1.txt  906_1.txt\r\n",
      "10998_1.txt 158_3.txt   3561_4.txt  5380_1.txt  7187_4.txt  9078_1.txt\r\n",
      "10_2.txt    1594_1.txt  3562_4.txt  5384_2.txt  7190_4.txt  907_1.txt\r\n",
      "11004_1.txt 1596_4.txt  3574_1.txt  5388_2.txt  71_1.txt    9091_1.txt\r\n",
      "11005_1.txt 1602_2.txt  3583_1.txt  5407_1.txt  7215_1.txt  9103_1.txt\r\n",
      "11008_1.txt 1603_2.txt  3585_2.txt  540_4.txt   7218_1.txt  9114_1.txt\r\n",
      "11010_1.txt 1612_1.txt  3588_1.txt  5418_4.txt  7219_1.txt  9118_1.txt\r\n",
      "11013_1.txt 1627_1.txt  3593_3.txt  5429_1.txt  7228_2.txt  9119_1.txt\r\n",
      "1101_3.txt  1634_4.txt  359_3.txt   5430_3.txt  7232_4.txt  9126_3.txt\r\n",
      "11034_1.txt 1654_1.txt  3602_2.txt  5432_2.txt  7241_2.txt  9145_1.txt\r\n",
      "11036_1.txt 1665_3.txt  3614_2.txt  5435_1.txt  7248_2.txt  9152_1.txt\r\n",
      "11040_2.txt 1672_1.txt  3620_1.txt  5452_4.txt  7254_1.txt  915_4.txt\r\n",
      "11050_1.txt 1675_4.txt  3622_2.txt  5457_1.txt  7258_3.txt  9171_1.txt\r\n",
      "11053_1.txt 1676_4.txt  3623_3.txt  5466_1.txt  7262_4.txt  9173_1.txt\r\n",
      "11057_3.txt 1685_1.txt  3629_1.txt  546_2.txt   7272_4.txt  9175_1.txt\r\n",
      "11058_1.txt 1693_2.txt  3654_1.txt  5473_2.txt  7276_2.txt  9178_1.txt\r\n",
      "1105_2.txt  1699_4.txt  3676_2.txt  5476_4.txt  7278_3.txt  9182_1.txt\r\n",
      "11076_4.txt 1718_3.txt  3686_2.txt  5480_4.txt  727_3.txt   9192_3.txt\r\n",
      "11082_1.txt 1722_1.txt  3688_2.txt  5487_4.txt  7280_1.txt  9202_1.txt\r\n",
      "11083_3.txt 1724_1.txt  3690_1.txt  5489_1.txt  7288_2.txt  9205_1.txt\r\n",
      "11088_4.txt 1729_3.txt  3702_1.txt  54_1.txt    728_3.txt   9214_3.txt\r\n",
      "11090_1.txt 1738_1.txt  3704_3.txt  5509_3.txt  7298_1.txt  9217_2.txt\r\n",
      "11102_4.txt 1739_4.txt  3717_3.txt  5534_4.txt  7302_3.txt  9218_4.txt\r\n",
      "11107_1.txt 1747_2.txt  3718_1.txt  5535_2.txt  7304_4.txt  9225_1.txt\r\n",
      "11114_1.txt 1763_1.txt  3721_1.txt  5541_2.txt  7307_2.txt  9239_2.txt\r\n",
      "11122_3.txt 1766_1.txt  3726_1.txt  5543_2.txt  7309_1.txt  9243_4.txt\r\n",
      "11124_1.txt 1774_3.txt  3730_2.txt  5544_3.txt  7325_1.txt  9245_2.txt\r\n",
      "11139_1.txt 1777_3.txt  3733_1.txt  5546_4.txt  7329_3.txt  9252_3.txt\r\n",
      "11144_2.txt 1783_2.txt  373_4.txt   5549_2.txt  7342_2.txt  9258_3.txt\r\n",
      "11147_2.txt 1787_2.txt  3754_3.txt  5555_1.txt  7345_1.txt  9259_3.txt\r\n",
      "11150_3.txt 1790_4.txt  3769_2.txt  5561_3.txt  7352_3.txt  9260_1.txt\r\n",
      "11154_2.txt 1794_4.txt  376_4.txt   5563_1.txt  7356_1.txt  9264_4.txt\r\n",
      "11160_1.txt 1803_4.txt  3772_2.txt  5564_2.txt  7361_3.txt  9275_1.txt\r\n",
      "11164_1.txt 1823_1.txt  3773_1.txt  5573_2.txt  7379_2.txt  9276_1.txt\r\n",
      "11172_1.txt 1825_2.txt  3778_3.txt  5586_4.txt  7391_2.txt  9282_1.txt\r\n",
      "11178_3.txt 1826_3.txt  3780_2.txt  5587_4.txt  7396_1.txt  9290_4.txt\r\n",
      "11179_3.txt 1828_3.txt  3783_4.txt  5597_3.txt  7407_2.txt  9292_3.txt\r\n",
      "11183_2.txt 1834_3.txt  3786_1.txt  55_1.txt    7411_4.txt  9297_1.txt\r\n",
      "11187_2.txt 1837_2.txt  3792_4.txt  5605_1.txt  7426_1.txt  9302_1.txt\r\n",
      "11192_4.txt 1847_3.txt  3800_1.txt  5608_1.txt  742_1.txt   9309_1.txt\r\n",
      "11193_2.txt 1856_4.txt  3807_4.txt  5611_2.txt  7430_4.txt  930_2.txt\r\n",
      "1120_1.txt  1866_2.txt  3811_1.txt  5612_1.txt  7433_4.txt  9310_1.txt\r\n",
      "11210_1.txt 1867_2.txt  3817_1.txt  5623_2.txt  7441_3.txt  9314_4.txt\r\n",
      "11212_1.txt 1869_2.txt  3826_1.txt  5625_4.txt  7450_3.txt  9356_3.txt\r\n",
      "11214_3.txt 1886_1.txt  3851_1.txt  5633_3.txt  7455_3.txt  9362_1.txt\r\n",
      "11221_4.txt 1889_1.txt  3853_1.txt  5634_1.txt  7458_3.txt  9363_2.txt\r\n",
      "11223_1.txt 188_1.txt   3855_2.txt  5643_1.txt  7465_1.txt  9365_1.txt\r\n",
      "11232_1.txt 1906_1.txt  3856_3.txt  5644_2.txt  7466_1.txt  9368_3.txt\r\n",
      "11236_1.txt 1908_3.txt  3859_4.txt  5655_1.txt  7481_1.txt  9380_4.txt\r\n",
      "11241_1.txt 190_1.txt   385_3.txt   5660_1.txt  7484_1.txt  9387_1.txt\r\n",
      "11242_1.txt 1914_4.txt  3860_4.txt  5662_3.txt  748_1.txt   9394_2.txt\r\n",
      "11253_1.txt 1916_1.txt  3863_1.txt  5674_1.txt  74_3.txt    9398_4.txt\r\n",
      "11257_1.txt 1922_3.txt  3874_3.txt  5675_2.txt  7503_4.txt  9402_1.txt\r\n",
      "11279_1.txt 1925_1.txt  3878_2.txt  5678_1.txt  7510_1.txt  9403_1.txt\r\n",
      "11294_1.txt 1932_2.txt  3897_4.txt  5688_2.txt  7518_2.txt  9407_4.txt\r\n",
      "112_1.txt   1934_4.txt  3899_1.txt  5689_2.txt  7521_2.txt  9409_4.txt\r\n",
      "11306_3.txt 1936_1.txt  389_3.txt   5693_1.txt  7527_4.txt  9412_3.txt\r\n",
      "11310_1.txt 1937_2.txt  3900_4.txt  5694_4.txt  7534_4.txt  9421_1.txt\r\n",
      "11312_2.txt 1938_1.txt  3902_4.txt  56_3.txt    7544_3.txt  9428_2.txt\r\n",
      "11313_3.txt 1940_3.txt  3905_1.txt  5700_1.txt  7549_1.txt  9430_2.txt\r\n",
      "11329_1.txt 1941_1.txt  3911_4.txt  5701_1.txt  7551_4.txt  943_2.txt\r\n",
      "1132_4.txt  1988_1.txt  3918_3.txt  570_1.txt   7552_1.txt  9457_1.txt\r\n",
      "11334_1.txt 198_2.txt   3925_1.txt  5712_1.txt  7561_2.txt  9461_1.txt\r\n",
      "11335_2.txt 1994_2.txt  3931_4.txt  5714_1.txt  7563_1.txt  9469_1.txt\r\n",
      "11337_3.txt 1998_4.txt  3932_4.txt  5716_1.txt  7580_1.txt  9472_1.txt\r\n",
      "11359_2.txt 199_1.txt   3941_3.txt  5718_1.txt  7583_2.txt  9477_3.txt\r\n",
      "1135_3.txt  2002_1.txt  3944_3.txt  5722_1.txt  7587_4.txt  9479_2.txt\r\n",
      "11365_1.txt 2004_3.txt  3966_4.txt  5723_1.txt  75_1.txt    9500_2.txt\r\n",
      "11369_1.txt 2035_1.txt  3971_1.txt  5726_1.txt  7605_4.txt  9506_1.txt\r\n",
      "11374_2.txt 2036_4.txt  3973_3.txt  5727_1.txt  761_1.txt   9514_1.txt\r\n",
      "11375_2.txt 2046_1.txt  3975_3.txt  5751_1.txt  7620_1.txt  9521_3.txt\r\n",
      "11389_2.txt 2048_1.txt  397_3.txt   5758_2.txt  762_2.txt   9522_1.txt\r\n",
      "1138_2.txt  204_4.txt   3985_4.txt  5762_4.txt  7630_1.txt  9524_3.txt\r\n",
      "11394_1.txt 2051_1.txt  3989_1.txt  5763_1.txt  7633_3.txt  9529_2.txt\r\n",
      "11395_4.txt 2056_1.txt  4001_3.txt  5769_3.txt  7634_2.txt  952_3.txt\r\n",
      "11407_1.txt 2082_1.txt  4008_1.txt  5773_1.txt  7635_1.txt  9535_2.txt\r\n",
      "11408_1.txt 2086_3.txt  4014_2.txt  577_3.txt   7640_2.txt  9550_1.txt\r\n",
      "1140_3.txt  2097_4.txt  4031_4.txt  5786_2.txt  7644_2.txt  9551_1.txt\r\n",
      "11411_4.txt 2105_3.txt  4033_1.txt  5790_1.txt  7650_1.txt  9554_1.txt\r\n",
      "11418_4.txt 2135_1.txt  403_3.txt   5798_4.txt  7654_1.txt  9562_4.txt\r\n",
      "11419_1.txt 213_4.txt   4050_4.txt  5799_1.txt  7657_1.txt  9579_4.txt\r\n",
      "11435_3.txt 2154_1.txt  4071_4.txt  5805_1.txt  7666_2.txt  9584_4.txt\r\n",
      "11440_1.txt 2160_1.txt  4084_1.txt  5810_3.txt  7677_4.txt  9587_3.txt\r\n",
      "11447_1.txt 2164_2.txt  4085_2.txt  5814_3.txt  767_3.txt   9592_4.txt\r\n",
      "11449_1.txt 217_3.txt   4088_1.txt  5816_3.txt  7680_4.txt  9599_1.txt\r\n",
      "11454_4.txt 2183_2.txt  4093_4.txt  5819_4.txt  7687_1.txt  9602_3.txt\r\n",
      "11459_4.txt 2185_1.txt  4117_1.txt  581_4.txt   7717_2.txt  9612_4.txt\r\n",
      "11462_4.txt 2188_2.txt  4118_3.txt  5821_4.txt  7718_4.txt  9613_1.txt\r\n",
      "11465_1.txt 2189_2.txt  4119_1.txt  5823_2.txt  7725_2.txt  9617_2.txt\r\n",
      "1149_3.txt  2192_4.txt  4120_1.txt  5826_1.txt  7729_4.txt  9620_2.txt\r\n",
      "114_4.txt   2194_3.txt  4123_3.txt  582_3.txt   7733_1.txt  9626_2.txt\r\n",
      "11504_1.txt 2199_2.txt  412_4.txt   5831_1.txt  7735_1.txt  9628_1.txt\r\n",
      "11505_3.txt 2203_3.txt  4131_1.txt  5850_4.txt  7736_2.txt  9633_2.txt\r\n",
      "11507_2.txt 2206_2.txt  4136_1.txt  5859_1.txt  7748_2.txt  9634_4.txt\r\n",
      "11512_1.txt 2209_4.txt  4139_1.txt  5864_1.txt  775_4.txt   9645_4.txt\r\n",
      "11518_1.txt 2214_4.txt  4142_1.txt  5887_3.txt  7760_3.txt  9648_4.txt\r\n",
      "1152_3.txt  2221_1.txt  4147_1.txt  5896_3.txt  7763_3.txt  9650_1.txt\r\n",
      "11534_4.txt 2225_4.txt  4149_1.txt  589_1.txt   7778_1.txt  9659_4.txt\r\n",
      "11540_2.txt 2228_1.txt  4151_1.txt  5905_1.txt  777_2.txt   966_2.txt\r\n",
      "11541_1.txt 2234_1.txt  4152_1.txt  5906_1.txt  7786_1.txt  9678_1.txt\r\n",
      "11552_4.txt 2237_3.txt  4157_3.txt  5913_1.txt  7804_4.txt  9681_1.txt\r\n",
      "11556_1.txt 2246_4.txt  415_3.txt   5915_1.txt  780_2.txt   9682_3.txt\r\n",
      "11561_4.txt 2250_1.txt  4165_2.txt  5921_4.txt  7818_1.txt  9686_1.txt\r\n",
      "1158_4.txt  2255_4.txt  4167_2.txt  5923_4.txt  7836_3.txt  968_1.txt\r\n",
      "11592_1.txt 2263_1.txt  4169_2.txt  5935_4.txt  7837_4.txt  9704_1.txt\r\n",
      "11598_4.txt 2272_3.txt  4170_1.txt  5940_4.txt  7839_4.txt  9707_3.txt\r\n",
      "11605_1.txt 2280_4.txt  4180_3.txt  5942_4.txt  7841_4.txt  9717_3.txt\r\n",
      "11628_4.txt 2290_4.txt  4182_1.txt  5944_1.txt  7846_2.txt  9727_3.txt\r\n",
      "1163_3.txt  2291_4.txt  4184_4.txt  5950_4.txt  7849_2.txt  972_3.txt\r\n",
      "11664_3.txt 2293_1.txt  4188_4.txt  5951_4.txt  7854_1.txt  9730_1.txt\r\n",
      "11665_3.txt 2296_3.txt  418_4.txt   5956_3.txt  7855_1.txt  9740_1.txt\r\n",
      "11666_1.txt 229_1.txt   4190_2.txt  5962_4.txt  785_2.txt   9796_1.txt\r\n",
      "11669_1.txt 2304_1.txt  4195_3.txt  5965_3.txt  7886_1.txt  9799_1.txt\r\n",
      "1166_2.txt  2317_1.txt  4197_2.txt  5972_3.txt  7895_1.txt  9801_1.txt\r\n",
      "11676_2.txt 2340_2.txt  419_2.txt   5978_2.txt  78_4.txt    9805_1.txt\r\n",
      "1167_4.txt  2341_4.txt  41_1.txt    5993_2.txt  7900_4.txt  9806_1.txt\r\n",
      "1168_4.txt  2357_3.txt  4201_1.txt  6004_2.txt  7901_3.txt  9817_2.txt\r\n",
      "11701_3.txt 235_1.txt   4207_4.txt  6013_1.txt  7904_3.txt  9820_2.txt\r\n",
      "11703_1.txt 2360_1.txt  4213_1.txt  601_4.txt   7905_1.txt  9825_1.txt\r\n",
      "11750_1.txt 2365_3.txt  4218_3.txt  6022_1.txt  7924_1.txt  9826_1.txt\r\n",
      "11752_3.txt 2373_3.txt  4224_4.txt  6037_1.txt  7926_2.txt  9830_2.txt\r\n",
      "11767_4.txt 2375_2.txt  4227_1.txt  6046_2.txt  7927_1.txt  9832_3.txt\r\n",
      "1177_1.txt  2377_1.txt  4228_1.txt  6047_2.txt  7928_4.txt  983_4.txt\r\n",
      "11781_1.txt 2396_1.txt  4230_2.txt  6049_4.txt  7939_2.txt  9843_1.txt\r\n",
      "11788_1.txt 239_2.txt   4232_1.txt  6051_2.txt  7942_1.txt  9845_3.txt\r\n",
      "1178_2.txt  2401_3.txt  423_4.txt   605_4.txt   7950_3.txt  9848_3.txt\r\n",
      "11790_1.txt 2402_3.txt  425_2.txt   6066_2.txt  7954_2.txt  9856_4.txt\r\n",
      "11794_2.txt 240_1.txt   4268_1.txt  6069_3.txt  7959_4.txt  9867_1.txt\r\n",
      "11800_4.txt 2414_3.txt  4283_1.txt  6072_4.txt  7960_4.txt  9869_3.txt\r\n",
      "11804_4.txt 2418_2.txt  4285_2.txt  6073_1.txt  7962_4.txt  9870_4.txt\r\n",
      "11807_2.txt 2421_3.txt  4288_2.txt  6081_4.txt  7981_4.txt  9873_1.txt\r\n",
      "11818_2.txt 2423_4.txt  428_1.txt   6103_2.txt  7989_1.txt  9877_4.txt\r\n",
      "11841_1.txt 2432_4.txt  4300_1.txt  6111_1.txt  8004_2.txt  9890_3.txt\r\n",
      "11842_4.txt 2444_1.txt  4302_2.txt  6117_1.txt  8005_4.txt  9891_1.txt\r\n",
      "11849_4.txt 2448_4.txt  4303_1.txt  613_3.txt   8006_2.txt  9901_2.txt\r\n",
      "11850_3.txt 244_4.txt   4307_1.txt  6141_1.txt  8007_1.txt  990_1.txt\r\n",
      "11854_1.txt 2452_3.txt  4312_4.txt  6182_1.txt  800_2.txt   9920_3.txt\r\n",
      "11856_1.txt 2456_3.txt  4314_4.txt  6188_1.txt  8026_2.txt  9925_1.txt\r\n",
      "11857_1.txt 2459_4.txt  4330_1.txt  6193_1.txt  8029_1.txt  9928_3.txt\r\n",
      "11862_2.txt 2462_4.txt  4335_4.txt  6198_1.txt  8032_3.txt  992_1.txt\r\n",
      "11864_3.txt 2469_2.txt  4336_4.txt  6202_1.txt  803_4.txt   9934_3.txt\r\n",
      "11874_1.txt 246_3.txt   433_4.txt   6207_1.txt  8042_3.txt  9953_1.txt\r\n",
      "11875_4.txt 2470_2.txt  4351_3.txt  6223_1.txt  8046_1.txt  9964_4.txt\r\n",
      "11882_1.txt 2471_2.txt  4352_4.txt  6229_3.txt  8047_2.txt  9966_1.txt\r\n",
      "11899_2.txt 2475_3.txt  4362_2.txt  6230_2.txt  8059_1.txt  9974_3.txt\r\n",
      "11900_1.txt 2483_1.txt  4367_4.txt  6242_1.txt  8062_2.txt  9981_1.txt\r\n",
      "11908_3.txt 2488_3.txt  4378_4.txt  6244_1.txt  8063_2.txt  999_3.txt\r\n",
      "11912_2.txt 2514_3.txt  4383_1.txt  6261_2.txt  8064_2.txt  99_1.txt\r\n",
      "11914_2.txt 2515_1.txt  4386_3.txt  6267_1.txt  8066_4.txt\r\n",
      "11915_4.txt 2524_4.txt  4395_1.txt  6276_3.txt  8076_1.txt\r\n",
      "11916_3.txt 2530_2.txt  4414_3.txt  627_2.txt   8090_3.txt\r\n"
     ]
    }
   ],
   "source": [
    "!ls ./dataset/train_neg"
   ]
  },
  {
   "cell_type": "code",
   "execution_count": 105,
   "metadata": {},
   "outputs": [
    {
     "name": "stdout",
     "output_type": "stream",
     "text": [
      "When I was little my parents took me along to the theater to see Interiors. It was one of many movies I watched with my parents, but this was the only one we walked out of. Since then I had never seen Interiors until just recently, and I could have lived out the rest of my life without it. What a pretentious, ponderous, and painfully boring piece of 70's wine and cheese tripe. Woody Allen is one of my favorite directors but Interiors is by far the worst piece of crap of his career. In the unmistakable style of Ingmar Berman, Allen gives us a dark, angular, muted, insight in to the lives of a family wrought by the psychological damage caused by divorce, estrangement, career, love, non-love, halitosis, whatever. The film, intentionally, has no comic relief, no music, and is drenched in shadowy pathos. This film style can be best defined as expressionist in nature, using an improvisational method of dialogue to illicit a \"more pronounced depth of meaning and truth\". But Woody Allen is no \n"
     ]
    }
   ],
   "source": [
    "# let's just look at a couple of the files.\n",
    "\n",
    "# looks like we're maybe working with the stanford movie review data mentioned in the article.\n",
    "\n",
    "with open(\"./dataset/train_neg/10003_1.txt\") as d:\n",
    "    data = d.readlines()\n",
    "    print data[0][0:1000]\n",
    "    "
   ]
  },
  {
   "cell_type": "code",
   "execution_count": 2,
   "metadata": {
    "collapsed": true
   },
   "outputs": [],
   "source": [
    "# Let's read in all the data\n",
    "train_neg_text = []\n",
    "train_pos_text = []\n",
    "valid_neg_text = []\n",
    "valid_pos_text = []\n",
    "\n",
    "for data_dir in os.listdir('./dataset/')[1:]:\n",
    "    for f in os.listdir('./dataset/%s' % data_dir):\n",
    "        if data_dir == 'train_neg':\n",
    "            with open(\"./dataset/train_neg/%s\" % f) as d:\n",
    "                train_neg_text.append(d.readlines())\n",
    "        if data_dir == 'train_pos':\n",
    "            with open(\"./dataset/train_pos/%s\" % f) as d:\n",
    "                train_pos_text.append(d.readlines())\n",
    "        if data_dir == 'valid_neg':\n",
    "            with open(\"./dataset/valid_neg/%s\" % f) as d:\n",
    "                valid_neg_text.append(d.readlines())\n",
    "        if data_dir == 'valid_pos':\n",
    "            with open(\"./dataset/valid_pos/%s\" % f) as d:\n",
    "                valid_pos_text.append(d.readlines())       "
   ]
  },
  {
   "cell_type": "code",
   "execution_count": 131,
   "metadata": {},
   "outputs": [
    {
     "data": {
      "text/plain": [
       "<matplotlib.axes._subplots.AxesSubplot at 0x114b6bcd0>"
      ]
     },
     "execution_count": 131,
     "metadata": {},
     "output_type": "execute_result"
    },
    {
     "data": {
      "image/png": "[encoded data removed]",
      "text/plain": [
       "<matplotlib.figure.Figure at 0x114b6b590>"
      ]
     },
     "metadata": {},
     "output_type": "display_data"
    }
   ],
   "source": [
    "# let's get an idea of how long these documents are.\n",
    "\n",
    "# looks like most of our documents are about 200 words, with a bit of a positive skew, with some docs\n",
    "# as long as 1400 words.\n",
    "\n",
    "lengths_train_neg = [len(doc[0].split(\" \")) for doc in train_neg_text]\n",
    "\n",
    "plt.figure(figsize=(10,7))\n",
    "sns.distplot(lengths_train_neg, bins=50)"
   ]
  },
  {
   "cell_type": "code",
   "execution_count": 19,
   "metadata": {},
   "outputs": [
    {
     "data": {
      "text/plain": [
       "1    12500\n",
       "0     1875\n",
       "Name: class, dtype: int64"
      ]
     },
     "execution_count": 19,
     "metadata": {},
     "output_type": "execute_result"
    }
   ],
   "source": [
    "# let's put these into dataframes, turn them into a bag of words and do a little more EDA\n",
    "\n",
    "train_0 = pd.DataFrame({\n",
    "    'words': [doc[0] for doc in train_pos_text],\n",
    "    'class': [1 for doc in train_pos_text],\n",
    "})\n",
    "\n",
    "train_1 = pd.DataFrame({\n",
    "    'words': [doc[0] for doc in train_neg_text],\n",
    "    'class': [0 for doc in train_neg_text],\n",
    "})\n",
    "\n",
    "train_df = pd.concat([train_0, train_1], axis=0)\n",
    "train_df['class'].value_counts()"
   ]
  },
  {
   "cell_type": "code",
   "execution_count": 20,
   "metadata": {},
   "outputs": [
    {
     "data": {
      "text/plain": [
       "1    6250\n",
       "0    6250\n",
       "Name: class, dtype: int64"
      ]
     },
     "execution_count": 20,
     "metadata": {},
     "output_type": "execute_result"
    }
   ],
   "source": [
    "test_0 = pd.DataFrame({\n",
    "    'words': [doc[0] for doc in valid_pos_text],\n",
    "    'class': [1 for doc in valid_pos_text],\n",
    "})\n",
    "\n",
    "test_1 = pd.DataFrame({\n",
    "    'words': [doc[0] for doc in valid_neg_text],\n",
    "    'class': [0 for doc in valid_neg_text],\n",
    "})\n",
    "\n",
    "test_df = pd.concat([test_0, test_1], axis=0)\n",
    "test_df['class'].value_counts()"
   ]
  },
  {
   "cell_type": "code",
   "execution_count": 21,
   "metadata": {
    "collapsed": true
   },
   "outputs": [],
   "source": [
    "from sklearn.feature_extraction.text import CountVectorizer\n",
    "from nltk.corpus import stopwords"
   ]
  },
  {
   "cell_type": "code",
   "execution_count": 22,
   "metadata": {},
   "outputs": [],
   "source": [
    "# let's turn this into a bag of words\n",
    "\n",
    "stopwords = stopwords.words('english')\n",
    "stopwords.append('br')\n",
    "\n",
    "count_vect = CountVectorizer(strip_accents='unicode', stop_words=stopwords)\n",
    "train_bow  = count_vect.fit_transform(train_df.words)\n",
    "columns    = count_vect.get_feature_names()"
   ]
  },
  {
   "cell_type": "markdown",
   "metadata": {},
   "source": [
    "Let's look at what some of the top words are in the training set"
   ]
  },
  {
   "cell_type": "code",
   "execution_count": 23,
   "metadata": {},
   "outputs": [
    {
     "data": {
      "text/plain": [
       "<matplotlib.axes._subplots.AxesSubplot at 0x115123310>"
      ]
     },
     "execution_count": 23,
     "metadata": {},
     "output_type": "execute_result"
    },
    {
     "data": {
      "image/png": "[encoded data removed]",
      "text/plain": [
       "<matplotlib.figure.Figure at 0x10f23af90>"
      ]
     },
     "metadata": {},
     "output_type": "display_data"
    }
   ],
   "source": [
    "x_df       =  pd.DataFrame(train_bow.toarray(), columns=columns)\n",
    "tf_df      =  pd.DataFrame(x_df.sum(), columns=[\"freq\"])\n",
    "tf_df.sort_values(\"freq\", ascending=False).head(10).unstack().plot(kind='barh', figsize=(10,7))"
   ]
  },
  {
   "cell_type": "code",
   "execution_count": 128,
   "metadata": {},
   "outputs": [
    {
     "data": {
      "text/plain": [
       "58940"
      ]
     },
     "execution_count": 128,
     "metadata": {},
     "output_type": "execute_result"
    }
   ],
   "source": [
    "len(x_df.columns)"
   ]
  },
  {
   "cell_type": "markdown",
   "metadata": {},
   "source": [
    "Looks like we have around 60,000 columns, which means about 60,000 vocabulary words in the training set."
   ]
  },
  {
   "cell_type": "markdown",
   "metadata": {},
   "source": [
    "# Simple Model\n",
    "\n",
    "Let's start by doing a very simple model, we'll try doing random forest with the bag of words and evaluate it on the validation set.  RF is somewhat robust to class imbalance so it should be a decent starting place.\n",
    "\n"
   ]
  },
  {
   "cell_type": "code",
   "execution_count": 24,
   "metadata": {},
   "outputs": [],
   "source": [
    "test_bow  = count_vect.transform(test_df.words)\n",
    "x_df_test = pd.DataFrame(test_bow.toarray(), columns=columns)"
   ]
  },
  {
   "cell_type": "code",
   "execution_count": 15,
   "metadata": {},
   "outputs": [
    {
     "name": "stdout",
     "output_type": "stream",
     "text": [
      "./dataset/train_neg\n",
      "./dataset/train_pos\n",
      "./dataset/valid_neg\n",
      "./dataset/valid_pos\n"
     ]
    }
   ],
   "source": [
    "# Let's first get our labels for training:\n",
    "\n",
    "train_labels = []\n",
    "test_labels = []\n",
    "\n",
    "for name in sorted(os.listdir(\"./dataset/\")[1:]):\n",
    "    path = os.path.join(\"./dataset/\", name)\n",
    "    print path\n",
    "    if os.path.isdir(path):\n",
    "        # making 1 or 0 ohe label based on pos/neg\n",
    "        if 'pos' in path:\n",
    "            label_id = 1\n",
    "        else:\n",
    "            label_id = 0\n",
    "            \n",
    "        if 'train' in path:\n",
    "            train_test_id = 1\n",
    "        else:\n",
    "            train_test_id = 0\n",
    "        for fname in sorted(os.listdir(path)):\n",
    "            if train_test_id == 1:\n",
    "                train_labels.append(label_id)\n",
    "            else:\n",
    "                test_labels.append(label_id)"
   ]
  },
  {
   "cell_type": "code",
   "execution_count": 69,
   "metadata": {},
   "outputs": [],
   "source": [
    "# The train labels go all 0s and then 1s, so let's just take a 50/50 split of 0 and 1 to balance it.\n",
    "\n",
    "# The first 3750 will be a 50/50 split\n",
    "x_df_downsample = x_df.iloc[0:3750, :]\n",
    "train_labels_downsample = np.array(train_labels)[0:3750]"
   ]
  },
  {
   "cell_type": "code",
   "execution_count": 70,
   "metadata": {},
   "outputs": [
    {
     "data": {
      "text/plain": [
       "1    1875\n",
       "0    1875\n",
       "dtype: int64"
      ]
     },
     "execution_count": 70,
     "metadata": {},
     "output_type": "execute_result"
    }
   ],
   "source": [
    "pd.Series(train_labels_downsample).value_counts()"
   ]
  },
  {
   "cell_type": "code",
   "execution_count": 109,
   "metadata": {},
   "outputs": [],
   "source": [
    "# Now let's shuffle the data\n",
    "\n",
    "train_shuffle = np.random.choice(np.arange(len(x_df_downsample)), size=len(x_df_downsample), replace=False)\n",
    "test_shuffle = np.random.choice(np.arange(len(x_df_test)), size=len(x_df_test), replace=False)\n",
    "\n",
    "x_df_train_shuff = x_df_downsample.iloc[train_shuffle, :]\n",
    "train_labels_shuff = np.array(train_labels_downsample)[train_shuffle]\n",
    "x_df_test_shuff = x_df_test.iloc[test_shuffle, :]\n",
    "test_labels_shuff = np.array(test_labels)[test_shuffle]"
   ]
  },
  {
   "cell_type": "code",
   "execution_count": 123,
   "metadata": {},
   "outputs": [
    {
     "name": "stderr",
     "output_type": "stream",
     "text": [
      "[Parallel(n_jobs=1)]: Done 100 out of 100 | elapsed:    4.9s finished\n"
     ]
    },
    {
     "data": {
      "text/plain": [
       "RandomForestClassifier(bootstrap=True, class_weight=None, criterion='gini',\n",
       "            max_depth=3, max_features='auto', max_leaf_nodes=None,\n",
       "            min_impurity_split=1e-07, min_samples_leaf=1,\n",
       "            min_samples_split=2, min_weight_fraction_leaf=0.0,\n",
       "            n_estimators=100, n_jobs=1, oob_score=False, random_state=None,\n",
       "            verbose=1, warm_start=False)"
      ]
     },
     "execution_count": 123,
     "metadata": {},
     "output_type": "execute_result"
    }
   ],
   "source": [
    "# now let's fit the random forest model\n",
    "\n",
    "from sklearn.ensemble import RandomForestClassifier\n",
    "\n",
    "rf = RandomForestClassifier(max_depth=3, n_estimators=100, verbose=1)\n",
    "rf.fit(x_df_train_shuff, train_labels_shuff)"
   ]
  },
  {
   "cell_type": "code",
   "execution_count": 124,
   "metadata": {},
   "outputs": [
    {
     "name": "stderr",
     "output_type": "stream",
     "text": [
      "[Parallel(n_jobs=1)]: Done 100 out of 100 | elapsed:    0.1s finished\n"
     ]
    },
    {
     "data": {
      "text/plain": [
       "0.73493333333333333"
      ]
     },
     "execution_count": 124,
     "metadata": {},
     "output_type": "execute_result"
    }
   ],
   "source": [
    "rf.score(x_df_train_shuff, train_labels_shuff)"
   ]
  },
  {
   "cell_type": "code",
   "execution_count": 125,
   "metadata": {
    "collapsed": true
   },
   "outputs": [],
   "source": [
    "# We're super overfit"
   ]
  },
  {
   "cell_type": "code",
   "execution_count": 126,
   "metadata": {},
   "outputs": [
    {
     "name": "stderr",
     "output_type": "stream",
     "text": [
      "[Parallel(n_jobs=1)]: Done 100 out of 100 | elapsed:    0.3s finished\n"
     ]
    },
    {
     "data": {
      "text/plain": [
       "0.48912"
      ]
     },
     "execution_count": 126,
     "metadata": {},
     "output_type": "execute_result"
    }
   ],
   "source": [
    "rf.score(x_df_test_shuff, test_labels_shuff)"
   ]
  },
  {
   "cell_type": "markdown",
   "metadata": {},
   "source": [
    "Wow so our first model is doing worse than baseline.  I think our problem here is that there are just way too many features in the training matrix because we're including all 50000 words.  Let's see if we can beat that with some neural networks.  Probably something else is going wrong here but considering that the point is not to make this model work let's move on."
   ]
  },
  {
   "cell_type": "markdown",
   "metadata": {},
   "source": [
    "## Neural Network\n",
    "\n",
    "Let's see if we can start building a neural network model with an architecture similar to that described in the paper"
   ]
  },
  {
   "cell_type": "code",
   "execution_count": 136,
   "metadata": {},
   "outputs": [
    {
     "name": "stdout",
     "output_type": "stream",
     "text": [
      "./dataset/train_neg\n",
      "./dataset/train_pos\n",
      "./dataset/valid_neg\n",
      "./dataset/valid_pos\n",
      "Found 26875 texts.\n"
     ]
    }
   ],
   "source": [
    "# first we need to create an embedding layer that will map the vocabulary to pretrained glove vectors\n",
    "import sys\n",
    "\n",
    "texts = []  # list of text samples\n",
    "labels_index = {}  # dictionary mapping label name to numeric id\n",
    "labels = []  # list of label ids\n",
    "train_test = []\n",
    "\n",
    "for name in sorted(os.listdir(\"./dataset/\")[1:]):\n",
    "    path = os.path.join(\"./dataset/\", name)\n",
    "    print path\n",
    "    if os.path.isdir(path):\n",
    "        \n",
    "        # making 1 or 0 ohe label based on pos/neg\n",
    "        if 'pos' in path:\n",
    "            label_id = 1\n",
    "        else:\n",
    "            label_id = 0\n",
    "        \n",
    "        # adding train/test labels so we can split up the data into train and validation later\n",
    "        if 'train' in path:\n",
    "            train_test_id = 1\n",
    "        else:\n",
    "            train_test_id = 0\n",
    "            \n",
    "        labels_index[name] = label_id\n",
    "        for fname in sorted(os.listdir(path)):\n",
    "            fpath = os.path.join(path, fname)\n",
    "            if sys.version_info < (3,):\n",
    "                f = open(fpath)\n",
    "            else:\n",
    "                f = open(fpath, encoding='latin-1')\n",
    "            t = f.read()\n",
    "            i = t.find('\\n\\n')  # skip header\n",
    "            if 0 < i:\n",
    "                t = t[i:]\n",
    "            texts.append(t)\n",
    "            f.close()\n",
    "            labels.append(label_id)\n",
    "            train_test.append(train_test_id)\n",
    "\n",
    "print('Found %s texts.' % len(texts))"
   ]
  },
  {
   "cell_type": "markdown",
   "metadata": {},
   "source": [
    "Next let's tokenize the words using keras' Tokenizer and pad them to bee the same length."
   ]
  },
  {
   "cell_type": "code",
   "execution_count": 137,
   "metadata": {},
   "outputs": [
    {
     "name": "stderr",
     "output_type": "stream",
     "text": [
      "//anaconda/lib/python2.7/site-packages/keras/preprocessing/text.py:89: UserWarning: The `nb_words` argument in `Tokenizer` has been renamed `num_words`.\n",
      "  warnings.warn('The `nb_words` argument in `Tokenizer` '\n"
     ]
    },
    {
     "name": "stdout",
     "output_type": "stream",
     "text": [
      "Found 93318 unique tokens.\n",
      "('Shape of data tensor:', (26875, 250))\n",
      "('Shape of label tensor:', (26875, 1))\n"
     ]
    }
   ],
   "source": [
    "from keras.preprocessing.text import Tokenizer\n",
    "from keras.preprocessing.sequence import pad_sequences\n",
    "\n",
    "# going to limit to the 20000 most common words for efficiency's sake\n",
    "tokenizer = Tokenizer(nb_words=20000)\n",
    "tokenizer.fit_on_texts(texts)\n",
    "sequences = tokenizer.texts_to_sequences(texts)\n",
    "\n",
    "word_index = tokenizer.word_index\n",
    "print('Found %s unique tokens.' % len(word_index))\n",
    "\n",
    "# going to truncate our texts at 250 words, based on the histogram of document lengths\n",
    "data = pad_sequences(sequences, maxlen=250)\n",
    "labels = np.array(labels).reshape((len(labels), 1))\n",
    "\n",
    "print('Shape of data tensor:', data.shape)\n",
    "print('Shape of label tensor:', labels.shape)"
   ]
  },
  {
   "cell_type": "markdown",
   "metadata": {},
   "source": [
    "Now let's go ahead and do a train test split, according to how the data is divided up in the directories provided."
   ]
  },
  {
   "cell_type": "code",
   "execution_count": 138,
   "metadata": {},
   "outputs": [],
   "source": [
    "# splitting data into train and test\n",
    "\n",
    "train_indices = [i for (i, label) in enumerate(train_test) if label == 1]\n",
    "test_indices = [i for (i, label) in enumerate(train_test) if label == 0]\n",
    "\n",
    "x_train = data[train_indices]\n",
    "y_train = np.array(labels)[train_indices]\n",
    "x_val = data[test_indices]\n",
    "y_val = np.array(labels)[test_indices]"
   ]
  },
  {
   "cell_type": "code",
   "execution_count": 139,
   "metadata": {
    "collapsed": true
   },
   "outputs": [],
   "source": [
    "# let's shuffle up the train and test sets\n",
    "\n",
    "train_shuffle = np.random.choice(np.arange(len(x_train)), size=len(x_train), replace=False)\n",
    "test_shuffle = np.random.choice(np.arange(len(x_val)), size=len(x_val), replace=False)\n",
    "\n",
    "x_train_shuff = x_train[train_shuffle]\n",
    "y_train_shuff = y_train[train_shuffle]\n",
    "x_val_shuff = x_val[test_shuffle]\n",
    "y_val_shuff = y_val[test_shuffle]"
   ]
  },
  {
   "cell_type": "markdown",
   "metadata": {},
   "source": [
    "### Preparing the Embedding layer\n",
    "\n",
    "Now we'll create a mapping dictionary based on pretrained glove vectors.  We'll just go ahead and use the 200 dimensional word vectors to be more in line with the article. They use the 300 dimensional vecotrs and project those to 200 dimensions, but why not just use pretrained 200 dimensional vectors? Seems better to me."
   ]
  },
  {
   "cell_type": "code",
   "execution_count": 140,
   "metadata": {},
   "outputs": [
    {
     "name": "stdout",
     "output_type": "stream",
     "text": [
      "Found 400000 word vectors.\n"
     ]
    }
   ],
   "source": [
    "embeddings_index = {}\n",
    "\n",
    "with open(os.path.join(\"../glove.6B/\", 'glove.6B.200d.txt')) as f:\n",
    "    for line in f:\n",
    "        values = line.split()\n",
    "        word = values[0]\n",
    "        coefs = np.asarray(values[1:], dtype='float32')\n",
    "        embeddings_index[word] = coefs\n",
    "\n",
    "print('Found %s word vectors.' % len(embeddings_index))\n",
    "\n",
    "# embedding dimension is the dimensionality of the glove vectors\n",
    "\n",
    "embedding_matrix = np.zeros((len(word_index) + 1, 200))\n",
    "for word, i in word_index.items():\n",
    "    embedding_vector = embeddings_index.get(word)\n",
    "    if embedding_vector is not None:\n",
    "        # words not found in embedding index will be all-zeros.\n",
    "        embedding_matrix[i] = embedding_vector\n",
    "\n",
    "from keras.layers import Embedding\n",
    "\n",
    "embedding_layer = Embedding(len(word_index) + 1,\n",
    "                            200,\n",
    "                            weights=[embedding_matrix],\n",
    "                            input_length=250,\n",
    "                            trainable=False)"
   ]
  },
  {
   "cell_type": "markdown",
   "metadata": {},
   "source": [
    "# Building A Simple Model\n",
    "\n",
    "First I want to start out by building a simpler model, in order to get a baseline and make sure that the data is set up right.  Training the model described in the paper is going to be very slow, so we can at least verify that everything is in place using a simpler model before making that investment.\n",
    "\n",
    "I'm also just going to try training this on the validation data, because that doesn't have the class imbalance that we see in the training data."
   ]
  },
  {
   "cell_type": "code",
   "execution_count": 133,
   "metadata": {
    "collapsed": true
   },
   "outputs": [],
   "source": [
    "from keras.optimizers import Adadelta\n",
    "from keras.models import Model\n",
    "from keras.layers import Dense, Flatten, concatenate, Dropout, Input, Merge"
   ]
  },
  {
   "cell_type": "code",
   "execution_count": 267,
   "metadata": {
    "collapsed": true
   },
   "outputs": [],
   "source": [
    "from keras.models import Sequential\n",
    "\n",
    "# create the model\n",
    "model = Sequential()\n",
    "model.add(Embedding(len(word_index) + 1,\n",
    "                            200,\n",
    "                            weights=[embedding_matrix],\n",
    "                            input_length=250,\n",
    "                            trainable=False))\n",
    "model.add(Flatten())\n",
    "model.add(Dense(250, activation='relu'))\n",
    "model.add(Dropout(.5))\n",
    "model.add(Dense(250, activation='relu'))\n",
    "model.add(Dropout(.2))\n",
    "model.add(Dense(1, activation='sigmoid'))\n",
    "model.compile(loss='binary_crossentropy', optimizer='adam', metrics=['accuracy'])"
   ]
  },
  {
   "cell_type": "code",
   "execution_count": 161,
   "metadata": {
    "collapsed": true
   },
   "outputs": [],
   "source": [
    "# Let's just fit on the test data, with an 80/20 train/test split\n",
    "\n",
    "x_val_shuff_train = x_val_shuff[:10000]\n",
    "y_val_shuff_train = y_val_shuff[:10000]\n",
    "x_val_shuff_test = x_val_shuff[10000:]\n",
    "y_val_shuff_test = y_val_shuff[10000:]"
   ]
  },
  {
   "cell_type": "code",
   "execution_count": 245,
   "metadata": {},
   "outputs": [
    {
     "name": "stdout",
     "output_type": "stream",
     "text": [
      "Train on 10000 samples, validate on 2500 samples\n",
      "Epoch 1/1\n",
      "10000/10000 [==============================] - 275s - loss: 0.4904 - acc: 0.7400 - val_loss: 0.5531 - val_acc: 0.7180\n"
     ]
    },
    {
     "data": {
      "text/plain": [
       "<keras.callbacks.History at 0x184d4c690>"
      ]
     },
     "execution_count": 245,
     "metadata": {},
     "output_type": "execute_result"
    }
   ],
   "source": [
    "model.fit(x_val_shuff_train, y_val_shuff_train, validation_data=(x_val_shuff_test, y_val_shuff_test),\n",
    "          epochs=1, batch_size=128)\n",
    "# model.save('./full_v8_model.h5')"
   ]
  },
  {
   "cell_type": "code",
   "execution_count": 246,
   "metadata": {},
   "outputs": [
    {
     "name": "stdout",
     "output_type": "stream",
     "text": [
      "14375/14375 [==============================] - 106s   \n"
     ]
    },
    {
     "data": {
      "text/plain": [
       "[0.54304581208851022, 0.7350956521780595]"
      ]
     },
     "execution_count": 246,
     "metadata": {},
     "output_type": "execute_result"
    }
   ],
   "source": [
    "model.evaluate(x_train, y_train)"
   ]
  },
  {
   "cell_type": "markdown",
   "metadata": {},
   "source": [
    "While this model isn't performing great, it is at least doing better than baseline (.5) on the validation data and isn't overfitting.  It at least seems like our data is set up well enough to move on to the more complex model."
   ]
  },
  {
   "cell_type": "markdown",
   "metadata": {},
   "source": [
    "### Bootstrapping the Training Data\n",
    "\n",
    "Because there's a pretty large class imbalance in the training data, I'm going to go ahead and try bootstrapping the negative class so we can get up to a 50/50 split.  If we do this all the way up to 10000 and 10000, we'll be resampling the negative class each around 10 times, which is probably going to cause overfitting, so instead we'll downsample the positive class, and then resample the negative class to match.\n",
    "\n",
    "I'll then go ahead and try training the simple model on that data to see if we can at least beat baseline and avoid overfitting the data.  Then we'll move on to the complex model."
   ]
  },
  {
   "cell_type": "code",
   "execution_count": 141,
   "metadata": {
    "collapsed": true
   },
   "outputs": [],
   "source": [
    "y_train_neg_indices = [i for i, value in enumerate(y_train_shuff) if value[0] == 0]\n",
    "y_train_pos_indices = [i for i, value in enumerate(y_train_shuff) if value[0] == 1]"
   ]
  },
  {
   "cell_type": "code",
   "execution_count": 142,
   "metadata": {},
   "outputs": [
    {
     "name": "stdout",
     "output_type": "stream",
     "text": [
      "negative class total:  [1875]\n",
      "positive class total:  [12500]\n"
     ]
    }
   ],
   "source": [
    "print \"negative class total: \", len(y_train) - sum(y_train)\n",
    "print \"positive class total: \", sum(y_train)"
   ]
  },
  {
   "cell_type": "code",
   "execution_count": 143,
   "metadata": {
    "collapsed": true
   },
   "outputs": [],
   "source": [
    "# Getting a list of sample indices of the negative class, so that split is 50/50 pos/neg\n",
    "\n",
    "# We'll set the size to 1125, so we have 3000/3000\n",
    "neg_bootstrap_indices = list(np.random.choice(y_train_neg_indices, size=1125, replace=False))"
   ]
  },
  {
   "cell_type": "code",
   "execution_count": 144,
   "metadata": {
    "collapsed": true
   },
   "outputs": [],
   "source": [
    "# now let's select 3000 random indices from the positive indices\n",
    "pos_bootstrap_indices = list(np.random.choice(y_train_pos_indices, size=3000, replace=False))"
   ]
  },
  {
   "cell_type": "code",
   "execution_count": 145,
   "metadata": {
    "collapsed": true
   },
   "outputs": [],
   "source": [
    "# If we add together the y_train negative, bootstrap, and positive bootstrap indices, we'll have our 6000 indices\n",
    "\n",
    "bootstrap_indices = neg_bootstrap_indices + pos_bootstrap_indices + y_train_neg_indices\n",
    "\n",
    "# getting a bootstrapped training set that is a 50/50 split\n",
    "x_train_bootstrap = x_train_shuff[bootstrap_indices]\n",
    "y_train_bootstrap = y_train_shuff[bootstrap_indices]"
   ]
  },
  {
   "cell_type": "code",
   "execution_count": 146,
   "metadata": {},
   "outputs": [
    {
     "data": {
      "text/plain": [
       "array([ 0.5])"
      ]
     },
     "execution_count": 146,
     "metadata": {},
     "output_type": "execute_result"
    }
   ],
   "source": [
    "# We now have a 50/50 split\n",
    "\n",
    "sum(y_train_bootstrap)/float(len(y_train_bootstrap))"
   ]
  },
  {
   "cell_type": "markdown",
   "metadata": {},
   "source": [
    "### Training Bootstrap Data on Simple Model\n",
    "\n",
    "Let's try training the simple model from earlier with the same data to confirm that our sampling process isn't messing with the model's ability to generalize well and avoid overfitting."
   ]
  },
  {
   "cell_type": "code",
   "execution_count": 263,
   "metadata": {
    "collapsed": true
   },
   "outputs": [],
   "source": [
    "# Let's reset the model first.\n",
    "model.reset_states()"
   ]
  },
  {
   "cell_type": "code",
   "execution_count": 266,
   "metadata": {},
   "outputs": [
    {
     "name": "stdout",
     "output_type": "stream",
     "text": [
      "Train on 6000 samples, validate on 12500 samples\n",
      "Epoch 1/3\n",
      "6000/6000 [==============================] - 264s - loss: 1.0788 - acc: 0.5298 - val_loss: 0.6888 - val_acc: 0.5818\n",
      "Epoch 2/3\n",
      "6000/6000 [==============================] - 280s - loss: 0.6497 - acc: 0.6387 - val_loss: 0.6695 - val_acc: 0.6045\n",
      "Epoch 3/3\n",
      "6000/6000 [==============================] - 221s - loss: 0.4922 - acc: 0.7603 - val_loss: 0.5930 - val_acc: 0.6893\n"
     ]
    },
    {
     "data": {
      "text/plain": [
       "<keras.callbacks.History at 0x18633aed0>"
      ]
     },
     "execution_count": 266,
     "metadata": {},
     "output_type": "execute_result"
    }
   ],
   "source": [
    "model.fit(x_train_bootstrap, y_train_bootstrap, validation_data=(x_val_shuff, y_val_shuff),\n",
    "          epochs=3, batch_size=128)"
   ]
  },
  {
   "cell_type": "markdown",
   "metadata": {},
   "source": [
    "Seems like we're overfitting a bit after 3 epochs.  Let's try using all the data, but with a 85:10 class weight."
   ]
  },
  {
   "cell_type": "code",
   "execution_count": 269,
   "metadata": {},
   "outputs": [
    {
     "name": "stdout",
     "output_type": "stream",
     "text": [
      "Train on 14375 samples, validate on 12500 samples\n",
      "Epoch 1/3\n",
      "14375/14375 [==============================] - 510s - loss: 2.1373 - acc: 0.3569 - val_loss: 0.7409 - val_acc: 0.5826\n",
      "Epoch 2/3\n",
      "14375/14375 [==============================] - 445s - loss: 1.3939 - acc: 0.5039 - val_loss: 0.8414 - val_acc: 0.5696\n",
      "Epoch 3/3\n",
      "14375/14375 [==============================] - 416s - loss: 1.1131 - acc: 0.7656 - val_loss: 0.6425 - val_acc: 0.6194\n"
     ]
    },
    {
     "data": {
      "text/plain": [
       "<keras.callbacks.History at 0x179b7c990>"
      ]
     },
     "execution_count": 269,
     "metadata": {},
     "output_type": "execute_result"
    }
   ],
   "source": [
    "model.reset_states()\n",
    "\n",
    "class_weights = {\n",
    "    1: 1.0,\n",
    "    0: 8.5,\n",
    "}\n",
    "\n",
    "model.fit(x_train_shuff, y_train_shuff, validation_data=(x_val_shuff, y_val_shuff),\n",
    "          epochs=3, batch_size=128, class_weight = class_weights)"
   ]
  },
  {
   "cell_type": "markdown",
   "metadata": {},
   "source": [
    "Looks like we actually overfit the model more by using weighting as opposed to resampling and using a smaller training set.  I'm going to go ahead and train the full model on the sampled data.\n",
    "\n",
    "Also, these are already taking a while to train, and using a smaller training set will make training more efficient."
   ]
  },
  {
   "cell_type": "markdown",
   "metadata": {},
   "source": [
    "# Building The Complex Model"
   ]
  },
  {
   "cell_type": "markdown",
   "metadata": {},
   "source": [
    "This is after about 7 epochs, looks like we're starting to overfit, and the val_loss went up between these last two epochs.  Let's check out a classification report for this model on the validation data."
   ]
  },
  {
   "cell_type": "code",
   "execution_count": 168,
   "metadata": {},
   "outputs": [],
   "source": [
    "sequence_input = Input(shape=(250,), dtype='int32')\n",
    "embedded_sequences = embedding_layer(sequence_input)\n",
    "\n",
    "# After the embedded sequences we need eight distinct softmax dense layers.\n",
    "\n",
    "# Not sure that the coding on this part is right. \n",
    "\n",
    "# Seems like what they're doing is a tanh activated dense layer, then doing a softmax function on the output\n",
    "\n",
    "S_1 = Dense(250, activation='tanh')(embedded_sequences)\n",
    "S_1 = Dense(250, activation='linear')(S_1)\n",
    "S_1 = Dense(250, activation=\"softmax\")(S_1)\n",
    "S_1 = Flatten()(S_1)\n",
    "\n",
    "S_2 = Dense(250, activation='tanh')(embedded_sequences)\n",
    "S_2 = Dense(250, activation='linear')(S_2)\n",
    "S_2 = Dense(250, activation=\"softmax\")(S_2)\n",
    "S_2 = Flatten()(S_2)\n",
    "\n",
    "S_3 = Dense(250, activation='tanh')(embedded_sequences)\n",
    "S_3 = Dense(250, activation='linear')(S_3)\n",
    "S_3 = Dense(250, activation=\"softmax\")(S_3)\n",
    "S_3 = Flatten()(S_3)\n",
    "\n",
    "S_4 = Dense(250, activation='tanh')(embedded_sequences)\n",
    "S_4 = Dense(250, activation='linear')(S_4)\n",
    "S_4 = Dense(250, activation=\"softmax\")(S_4)\n",
    "S_4 = Flatten()(S_4)\n",
    "\n",
    "S_5 = Dense(250, activation='tanh')(embedded_sequences)\n",
    "S_5 = Dense(250, activation='linear')(S_5)\n",
    "S_5 = Dense(250, activation=\"softmax\")(S_5)\n",
    "S_5 = Flatten()(S_5)\n",
    "\n",
    "S_6 = Dense(250, activation='tanh')(embedded_sequences)\n",
    "S_6 = Dense(250, activation='linear')(S_6)\n",
    "S_6 = Dense(250, activation=\"softmax\")(S_6)\n",
    "S_6 = Flatten()(S_6)\n",
    "\n",
    "S_7 = Dense(250, activation='tanh')(embedded_sequences)\n",
    "S_7 = Dense(250, activation='linear')(S_7)\n",
    "S_7 = Dense(250, activation=\"softmax\")(S_7)\n",
    "S_7 = Flatten()(S_7)\n",
    "\n",
    "S_8 = Dense(250, activation='tanh')(embedded_sequences)\n",
    "S_8 = Dense(250, activation='linear')(S_8)\n",
    "S_8 = Dense(250, activation=\"softmax\")(S_8)\n",
    "S_8 = Flatten()(S_8)\n",
    "\n",
    "# v_1 IS just S_1\n",
    "v_1 = S_1\n",
    "\n",
    "# v_2 should be a concatenation of v_1 and S_2\n",
    "v_2_concat = concatenate([v_1, S_2])\n",
    "v_2 = Dense(128, activation='tanh')(v_2_concat)\n",
    "\n",
    "# v_3 should be a concatenation of v_1, v_2, and S_3\n",
    "v_3_concat = concatenate([v_1, v_2, S_3])\n",
    "v_3 = Dense(128, activation='tanh')(v_3_concat)\n",
    "\n",
    "# v_3 should be a concatenation of v_1, v_2, and S_3\n",
    "v_3_concat = concatenate([v_1, v_2, S_3])\n",
    "v_3 = Dense(128, activation='tanh')(v_3_concat)\n",
    "\n",
    "# v_4 should be a concatenation of v_1, v_2, and S_3\n",
    "v_4_concat = concatenate([v_1, v_2, v_3, S_4])\n",
    "v_4 = Dense(128, activation='tanh')(v_4_concat)\n",
    "\n",
    "# v_5 should be a concatenation of v_1, v_2, v_3, v_4, and S_3\n",
    "v_5_concat = concatenate([v_1, v_2, v_3, v_4, S_5])\n",
    "v_5 = Dense(128, activation='tanh')(v_5_concat)\n",
    "\n",
    "v_6_concat = concatenate([v_1, v_2, v_3, v_4, v_5, S_6])\n",
    "v_6 = Dense(128, activation='tanh')(v_6_concat)\n",
    "\n",
    "v_7_concat = concatenate([v_1, v_2, v_3, v_4, v_5, v_6, S_7])\n",
    "v_7 = Dense(128, activation='tanh')(v_7_concat)\n",
    "\n",
    "# v_8 again just is s_8\n",
    "v_8 = S_8\n",
    "\n",
    "\n",
    "# MERGING ALL THE LAYERS\n",
    "concat_layer = concatenate([v_1, v_2, v_3, v_4, v_5, v_6, v_7, v_8])\n",
    "perceptron_1 = Dense(128, activation='softmax')(concat_layer)\n",
    "dropout = Dropout(.2)(perceptron_1)\n",
    "preds = Dense(1, activation='sigmoid')(dropout)\n",
    "\n",
    "# They use adadelta optimizer, with a really small learning rate.  I'm going to up it a bit for efficacy's sake.\n",
    "adadelta = Adadelta(lr=.5)\n",
    "\n",
    "model = Model(sequence_input, preds)\n",
    "model.compile(loss='binary_crossentropy', optimizer=adadelta, metrics=['accuracy'])"
   ]
  },
  {
   "cell_type": "code",
   "execution_count": 169,
   "metadata": {},
   "outputs": [
    {
     "name": "stdout",
     "output_type": "stream",
     "text": [
      "Train on 6000 samples, validate on 12500 samples\n",
      "Epoch 1/5\n",
      "1500/6000 [======>.......................] - ETA: 455s - loss: 0.6930 - acc: 0.5253"
     ]
    },
    {
     "ename": "KeyboardInterrupt",
     "evalue": "",
     "output_type": "error",
     "traceback": [
      "\u001b[0;31m---------------------------------------------------------------------------\u001b[0m",
      "\u001b[0;31mKeyboardInterrupt\u001b[0m                         Traceback (most recent call last)",
      "\u001b[0;32m<ipython-input-169-258da0fcbeff>\u001b[0m in \u001b[0;36m<module>\u001b[0;34m()\u001b[0m\n\u001b[1;32m      9\u001b[0m \u001b[0;34m\u001b[0m\u001b[0m\n\u001b[1;32m     10\u001b[0m model.fit(x_train_bootstrap, y_train_bootstrap, validation_data=(x_val_shuff, y_val_shuff),\n\u001b[0;32m---> 11\u001b[0;31m           epochs=5, batch_size=50, callbacks=[early_stopping])\n\u001b[0m",
      "\u001b[0;32m//anaconda/lib/python2.7/site-packages/keras/engine/training.pyc\u001b[0m in \u001b[0;36mfit\u001b[0;34m(self, x, y, batch_size, epochs, verbose, callbacks, validation_split, validation_data, shuffle, class_weight, sample_weight, initial_epoch, **kwargs)\u001b[0m\n\u001b[1;32m   1496\u001b[0m                               \u001b[0mval_f\u001b[0m\u001b[0;34m=\u001b[0m\u001b[0mval_f\u001b[0m\u001b[0;34m,\u001b[0m \u001b[0mval_ins\u001b[0m\u001b[0;34m=\u001b[0m\u001b[0mval_ins\u001b[0m\u001b[0;34m,\u001b[0m \u001b[0mshuffle\u001b[0m\u001b[0;34m=\u001b[0m\u001b[0mshuffle\u001b[0m\u001b[0;34m,\u001b[0m\u001b[0;34m\u001b[0m\u001b[0m\n\u001b[1;32m   1497\u001b[0m                               \u001b[0mcallback_metrics\u001b[0m\u001b[0;34m=\u001b[0m\u001b[0mcallback_metrics\u001b[0m\u001b[0;34m,\u001b[0m\u001b[0;34m\u001b[0m\u001b[0m\n\u001b[0;32m-> 1498\u001b[0;31m                               initial_epoch=initial_epoch)\n\u001b[0m\u001b[1;32m   1499\u001b[0m \u001b[0;34m\u001b[0m\u001b[0m\n\u001b[1;32m   1500\u001b[0m     \u001b[0;32mdef\u001b[0m \u001b[0mevaluate\u001b[0m\u001b[0;34m(\u001b[0m\u001b[0mself\u001b[0m\u001b[0;34m,\u001b[0m \u001b[0mx\u001b[0m\u001b[0;34m,\u001b[0m \u001b[0my\u001b[0m\u001b[0;34m,\u001b[0m \u001b[0mbatch_size\u001b[0m\u001b[0;34m=\u001b[0m\u001b[0;36m32\u001b[0m\u001b[0;34m,\u001b[0m \u001b[0mverbose\u001b[0m\u001b[0;34m=\u001b[0m\u001b[0;36m1\u001b[0m\u001b[0;34m,\u001b[0m \u001b[0msample_weight\u001b[0m\u001b[0;34m=\u001b[0m\u001b[0mNone\u001b[0m\u001b[0;34m)\u001b[0m\u001b[0;34m:\u001b[0m\u001b[0;34m\u001b[0m\u001b[0m\n",
      "\u001b[0;32m//anaconda/lib/python2.7/site-packages/keras/engine/training.pyc\u001b[0m in \u001b[0;36m_fit_loop\u001b[0;34m(self, f, ins, out_labels, batch_size, epochs, verbose, callbacks, val_f, val_ins, shuffle, callback_metrics, initial_epoch)\u001b[0m\n\u001b[1;32m   1150\u001b[0m                 \u001b[0mbatch_logs\u001b[0m\u001b[0;34m[\u001b[0m\u001b[0;34m'size'\u001b[0m\u001b[0;34m]\u001b[0m \u001b[0;34m=\u001b[0m \u001b[0mlen\u001b[0m\u001b[0;34m(\u001b[0m\u001b[0mbatch_ids\u001b[0m\u001b[0;34m)\u001b[0m\u001b[0;34m\u001b[0m\u001b[0m\n\u001b[1;32m   1151\u001b[0m                 \u001b[0mcallbacks\u001b[0m\u001b[0;34m.\u001b[0m\u001b[0mon_batch_begin\u001b[0m\u001b[0;34m(\u001b[0m\u001b[0mbatch_index\u001b[0m\u001b[0;34m,\u001b[0m \u001b[0mbatch_logs\u001b[0m\u001b[0;34m)\u001b[0m\u001b[0;34m\u001b[0m\u001b[0m\n\u001b[0;32m-> 1152\u001b[0;31m                 \u001b[0mouts\u001b[0m \u001b[0;34m=\u001b[0m \u001b[0mf\u001b[0m\u001b[0;34m(\u001b[0m\u001b[0mins_batch\u001b[0m\u001b[0;34m)\u001b[0m\u001b[0;34m\u001b[0m\u001b[0m\n\u001b[0m\u001b[1;32m   1153\u001b[0m                 \u001b[0;32mif\u001b[0m \u001b[0;32mnot\u001b[0m \u001b[0misinstance\u001b[0m\u001b[0;34m(\u001b[0m\u001b[0mouts\u001b[0m\u001b[0;34m,\u001b[0m \u001b[0mlist\u001b[0m\u001b[0;34m)\u001b[0m\u001b[0;34m:\u001b[0m\u001b[0;34m\u001b[0m\u001b[0m\n\u001b[1;32m   1154\u001b[0m                     \u001b[0mouts\u001b[0m \u001b[0;34m=\u001b[0m \u001b[0;34m[\u001b[0m\u001b[0mouts\u001b[0m\u001b[0;34m]\u001b[0m\u001b[0;34m\u001b[0m\u001b[0m\n",
      "\u001b[0;32m//anaconda/lib/python2.7/site-packages/keras/backend/tensorflow_backend.pyc\u001b[0m in \u001b[0;36m__call__\u001b[0;34m(self, inputs)\u001b[0m\n\u001b[1;32m   2227\u001b[0m         \u001b[0msession\u001b[0m \u001b[0;34m=\u001b[0m \u001b[0mget_session\u001b[0m\u001b[0;34m(\u001b[0m\u001b[0;34m)\u001b[0m\u001b[0;34m\u001b[0m\u001b[0m\n\u001b[1;32m   2228\u001b[0m         updated = session.run(self.outputs + [self.updates_op],\n\u001b[0;32m-> 2229\u001b[0;31m                               feed_dict=feed_dict)\n\u001b[0m\u001b[1;32m   2230\u001b[0m         \u001b[0;32mreturn\u001b[0m \u001b[0mupdated\u001b[0m\u001b[0;34m[\u001b[0m\u001b[0;34m:\u001b[0m\u001b[0mlen\u001b[0m\u001b[0;34m(\u001b[0m\u001b[0mself\u001b[0m\u001b[0;34m.\u001b[0m\u001b[0moutputs\u001b[0m\u001b[0;34m)\u001b[0m\u001b[0;34m]\u001b[0m\u001b[0;34m\u001b[0m\u001b[0m\n\u001b[1;32m   2231\u001b[0m \u001b[0;34m\u001b[0m\u001b[0m\n",
      "\u001b[0;32m//anaconda/lib/python2.7/site-packages/tensorflow/python/client/session.pyc\u001b[0m in \u001b[0;36mrun\u001b[0;34m(self, fetches, feed_dict, options, run_metadata)\u001b[0m\n\u001b[1;32m    776\u001b[0m     \u001b[0;32mtry\u001b[0m\u001b[0;34m:\u001b[0m\u001b[0;34m\u001b[0m\u001b[0m\n\u001b[1;32m    777\u001b[0m       result = self._run(None, fetches, feed_dict, options_ptr,\n\u001b[0;32m--> 778\u001b[0;31m                          run_metadata_ptr)\n\u001b[0m\u001b[1;32m    779\u001b[0m       \u001b[0;32mif\u001b[0m \u001b[0mrun_metadata\u001b[0m\u001b[0;34m:\u001b[0m\u001b[0;34m\u001b[0m\u001b[0m\n\u001b[1;32m    780\u001b[0m         \u001b[0mproto_data\u001b[0m \u001b[0;34m=\u001b[0m \u001b[0mtf_session\u001b[0m\u001b[0;34m.\u001b[0m\u001b[0mTF_GetBuffer\u001b[0m\u001b[0;34m(\u001b[0m\u001b[0mrun_metadata_ptr\u001b[0m\u001b[0;34m)\u001b[0m\u001b[0;34m\u001b[0m\u001b[0m\n",
      "\u001b[0;32m//anaconda/lib/python2.7/site-packages/tensorflow/python/client/session.pyc\u001b[0m in \u001b[0;36m_run\u001b[0;34m(self, handle, fetches, feed_dict, options, run_metadata)\u001b[0m\n\u001b[1;32m    980\u001b[0m     \u001b[0;32mif\u001b[0m \u001b[0mfinal_fetches\u001b[0m \u001b[0;32mor\u001b[0m \u001b[0mfinal_targets\u001b[0m\u001b[0;34m:\u001b[0m\u001b[0;34m\u001b[0m\u001b[0m\n\u001b[1;32m    981\u001b[0m       results = self._do_run(handle, final_targets, final_fetches,\n\u001b[0;32m--> 982\u001b[0;31m                              feed_dict_string, options, run_metadata)\n\u001b[0m\u001b[1;32m    983\u001b[0m     \u001b[0;32melse\u001b[0m\u001b[0;34m:\u001b[0m\u001b[0;34m\u001b[0m\u001b[0m\n\u001b[1;32m    984\u001b[0m       \u001b[0mresults\u001b[0m \u001b[0;34m=\u001b[0m \u001b[0;34m[\u001b[0m\u001b[0;34m]\u001b[0m\u001b[0;34m\u001b[0m\u001b[0m\n",
      "\u001b[0;32m//anaconda/lib/python2.7/site-packages/tensorflow/python/client/session.pyc\u001b[0m in \u001b[0;36m_do_run\u001b[0;34m(self, handle, target_list, fetch_list, feed_dict, options, run_metadata)\u001b[0m\n\u001b[1;32m   1030\u001b[0m     \u001b[0;32mif\u001b[0m \u001b[0mhandle\u001b[0m \u001b[0;32mis\u001b[0m \u001b[0mNone\u001b[0m\u001b[0;34m:\u001b[0m\u001b[0;34m\u001b[0m\u001b[0m\n\u001b[1;32m   1031\u001b[0m       return self._do_call(_run_fn, self._session, feed_dict, fetch_list,\n\u001b[0;32m-> 1032\u001b[0;31m                            target_list, options, run_metadata)\n\u001b[0m\u001b[1;32m   1033\u001b[0m     \u001b[0;32melse\u001b[0m\u001b[0;34m:\u001b[0m\u001b[0;34m\u001b[0m\u001b[0m\n\u001b[1;32m   1034\u001b[0m       return self._do_call(_prun_fn, self._session, handle, feed_dict,\n",
      "\u001b[0;32m//anaconda/lib/python2.7/site-packages/tensorflow/python/client/session.pyc\u001b[0m in \u001b[0;36m_do_call\u001b[0;34m(self, fn, *args)\u001b[0m\n\u001b[1;32m   1037\u001b[0m   \u001b[0;32mdef\u001b[0m \u001b[0m_do_call\u001b[0m\u001b[0;34m(\u001b[0m\u001b[0mself\u001b[0m\u001b[0;34m,\u001b[0m \u001b[0mfn\u001b[0m\u001b[0;34m,\u001b[0m \u001b[0;34m*\u001b[0m\u001b[0margs\u001b[0m\u001b[0;34m)\u001b[0m\u001b[0;34m:\u001b[0m\u001b[0;34m\u001b[0m\u001b[0m\n\u001b[1;32m   1038\u001b[0m     \u001b[0;32mtry\u001b[0m\u001b[0;34m:\u001b[0m\u001b[0;34m\u001b[0m\u001b[0m\n\u001b[0;32m-> 1039\u001b[0;31m       \u001b[0;32mreturn\u001b[0m \u001b[0mfn\u001b[0m\u001b[0;34m(\u001b[0m\u001b[0;34m*\u001b[0m\u001b[0margs\u001b[0m\u001b[0;34m)\u001b[0m\u001b[0;34m\u001b[0m\u001b[0m\n\u001b[0m\u001b[1;32m   1040\u001b[0m     \u001b[0;32mexcept\u001b[0m \u001b[0merrors\u001b[0m\u001b[0;34m.\u001b[0m\u001b[0mOpError\u001b[0m \u001b[0;32mas\u001b[0m \u001b[0me\u001b[0m\u001b[0;34m:\u001b[0m\u001b[0;34m\u001b[0m\u001b[0m\n\u001b[1;32m   1041\u001b[0m       \u001b[0mmessage\u001b[0m \u001b[0;34m=\u001b[0m \u001b[0mcompat\u001b[0m\u001b[0;34m.\u001b[0m\u001b[0mas_text\u001b[0m\u001b[0;34m(\u001b[0m\u001b[0me\u001b[0m\u001b[0;34m.\u001b[0m\u001b[0mmessage\u001b[0m\u001b[0;34m)\u001b[0m\u001b[0;34m\u001b[0m\u001b[0m\n",
      "\u001b[0;32m//anaconda/lib/python2.7/site-packages/tensorflow/python/client/session.pyc\u001b[0m in \u001b[0;36m_run_fn\u001b[0;34m(session, feed_dict, fetch_list, target_list, options, run_metadata)\u001b[0m\n\u001b[1;32m   1019\u001b[0m         return tf_session.TF_Run(session, options,\n\u001b[1;32m   1020\u001b[0m                                  \u001b[0mfeed_dict\u001b[0m\u001b[0;34m,\u001b[0m \u001b[0mfetch_list\u001b[0m\u001b[0;34m,\u001b[0m \u001b[0mtarget_list\u001b[0m\u001b[0;34m,\u001b[0m\u001b[0;34m\u001b[0m\u001b[0m\n\u001b[0;32m-> 1021\u001b[0;31m                                  status, run_metadata)\n\u001b[0m\u001b[1;32m   1022\u001b[0m \u001b[0;34m\u001b[0m\u001b[0m\n\u001b[1;32m   1023\u001b[0m     \u001b[0;32mdef\u001b[0m \u001b[0m_prun_fn\u001b[0m\u001b[0;34m(\u001b[0m\u001b[0msession\u001b[0m\u001b[0;34m,\u001b[0m \u001b[0mhandle\u001b[0m\u001b[0;34m,\u001b[0m \u001b[0mfeed_dict\u001b[0m\u001b[0;34m,\u001b[0m \u001b[0mfetch_list\u001b[0m\u001b[0;34m)\u001b[0m\u001b[0;34m:\u001b[0m\u001b[0;34m\u001b[0m\u001b[0m\n",
      "\u001b[0;31mKeyboardInterrupt\u001b[0m: "
     ]
    }
   ],
   "source": [
    "from keras.callbacks import EarlyStopping\n",
    "\n",
    "early_stopping = EarlyStopping(monitor='val_loss',\n",
    "                              min_delta=0,\n",
    "                              patience=2,\n",
    "                              verbose=0, mode='auto')\n",
    "\n",
    "# Let's just start with 5 epochs, and see if we overfit at all.\n",
    "\n",
    "model.fit(x_train_bootstrap, y_train_bootstrap, validation_data=(x_val_shuff, y_val_shuff),\n",
    "          epochs=5, batch_size=50, callbacks=[early_stopping])"
   ]
  },
  {
   "cell_type": "code",
   "execution_count": null,
   "metadata": {
    "collapsed": true
   },
   "outputs": [],
   "source": []
  },
  {
   "cell_type": "code",
   "execution_count": null,
   "metadata": {
    "collapsed": true
   },
   "outputs": [],
   "source": []
  },
  {
   "cell_type": "code",
   "execution_count": null,
   "metadata": {
    "collapsed": true
   },
   "outputs": [],
   "source": []
  },
  {
   "cell_type": "code",
   "execution_count": 164,
   "metadata": {
    "collapsed": true
   },
   "outputs": [],
   "source": [
    "# Well holy shit is this sucking.  Let's try the old simple model\n",
    "\n",
    "from keras.models import Sequential\n",
    "\n",
    "# create the model\n",
    "model = Sequential()\n",
    "model.add(Embedding(len(word_index) + 1,\n",
    "                            200,\n",
    "                            weights=[embedding_matrix],\n",
    "                            input_length=250,\n",
    "                            trainable=False))\n",
    "model.add(Flatten())\n",
    "model.add(Dense(250, activation='relu'))\n",
    "model.add(Dropout(.5))\n",
    "model.add(Dense(250, activation='relu'))\n",
    "model.add(Dropout(.2))\n",
    "model.add(Dense(1, activation='sigmoid'))\n",
    "model.compile(loss='binary_crossentropy', optimizer='adam', metrics=['accuracy'])"
   ]
  },
  {
   "cell_type": "code",
   "execution_count": 165,
   "metadata": {},
   "outputs": [
    {
     "name": "stdout",
     "output_type": "stream",
     "text": [
      "Train on 6000 samples, validate on 12500 samples\n",
      "Epoch 1/5\n",
      "6000/6000 [==============================] - 42s - loss: 0.7928 - acc: 0.5613 - val_loss: 0.6381 - val_acc: 0.6445\n",
      "Epoch 2/5\n",
      "6000/6000 [==============================] - 50s - loss: 0.5612 - acc: 0.6822 - val_loss: 0.6031 - val_acc: 0.6710\n",
      "Epoch 3/5\n",
      "6000/6000 [==============================] - 45s - loss: 0.4320 - acc: 0.7798 - val_loss: 0.7028 - val_acc: 0.6663\n",
      "Epoch 4/5\n",
      "6000/6000 [==============================] - 42s - loss: 0.3558 - acc: 0.8250 - val_loss: 0.7608 - val_acc: 0.5966\n",
      "Epoch 5/5\n",
      "6000/6000 [==============================] - 42s - loss: 0.2934 - acc: 0.8523 - val_loss: 0.6329 - val_acc: 0.6927\n"
     ]
    },
    {
     "data": {
      "text/plain": [
       "<keras.callbacks.History at 0x465427b10>"
      ]
     },
     "execution_count": 165,
     "metadata": {},
     "output_type": "execute_result"
    }
   ],
   "source": [
    "model.fit(x_train_bootstrap, y_train_bootstrap, validation_data=(x_val_shuff, y_val_shuff),\n",
    "          epochs=5, batch_size=50, callbacks=[early_stopping])"
   ]
  },
  {
   "cell_type": "markdown",
   "metadata": {},
   "source": [
    "## Evaluation"
   ]
  },
  {
   "cell_type": "code",
   "execution_count": 277,
   "metadata": {
    "collapsed": true
   },
   "outputs": [],
   "source": [
    "from sklearn.metrics import classification_report\n",
    "\n",
    "y_val_pred = model.predict(x_val_shuff)"
   ]
  },
  {
   "cell_type": "code",
   "execution_count": 284,
   "metadata": {},
   "outputs": [
    {
     "name": "stdout",
     "output_type": "stream",
     "text": [
      "             precision    recall  f1-score   support\n",
      "\n",
      "          0       0.76      0.73      0.74      6250\n",
      "          1       0.74      0.78      0.76      6250\n",
      "\n",
      "avg / total       0.75      0.75      0.75     12500\n",
      "\n"
     ]
    }
   ],
   "source": [
    "# We have to convert values to 0 and 1 from predictions.\n",
    "y_val_pred_bin = [1 if y >= .5 else 0 for y in y_val_pred]\n",
    "\n",
    "print classification_report(y_val_shuff, y_val_pred_bin)"
   ]
  },
  {
   "cell_type": "markdown",
   "metadata": {},
   "source": [
    "Looks like there's a pretty nice balance between precision and recall.  Recall is a bit better on the positive class, and precision is a bit better on the negative class."
   ]
  },
  {
   "cell_type": "markdown",
   "metadata": {},
   "source": [
    "### ROC Curve\n",
    "\n",
    "Let's evaluate performance with an ROC curve as well and look at area under the curve."
   ]
  },
  {
   "cell_type": "code",
   "execution_count": 293,
   "metadata": {
    "collapsed": true
   },
   "outputs": [],
   "source": [
    "from sklearn.metrics import roc_curve, auc"
   ]
  },
  {
   "cell_type": "code",
   "execution_count": 294,
   "metadata": {
    "collapsed": true
   },
   "outputs": [],
   "source": [
    "fpr, tpr, thresholds = roc_curve(y_val_shuff, y_val_pred, pos_label=1)\n",
    "roc_auc = auc(fpr, tpr)"
   ]
  },
  {
   "cell_type": "code",
   "execution_count": 298,
   "metadata": {},
   "outputs": [
    {
     "data": {
      "image/png": "[encoded data removed]",
      "text/plain": [
       "<matplotlib.figure.Figure at 0x3c3fdd210>"
      ]
     },
     "metadata": {},
     "output_type": "display_data"
    }
   ],
   "source": [
    "plt.figure(figsize=(10,7))\n",
    "lw = 2\n",
    "plt.plot(fpr, tpr, color='darkorange',\n",
    "         lw=lw, label='ROC curve (area = %0.2f)' % roc_auc)\n",
    "plt.plot([0, 1], [0, 1], color='navy', lw=lw, linestyle='--')\n",
    "plt.xlim([0.0, 1.0])\n",
    "plt.ylim([0.0, 1.0])\n",
    "plt.xlabel('False Positive Rate')\n",
    "plt.ylabel('True Positive Rate')\n",
    "plt.title('Receiver operating characteristic example', size=15)\n",
    "plt.legend(loc=\"lower right\")\n",
    "plt.show()"
   ]
  },
  {
   "cell_type": "markdown",
   "metadata": {},
   "source": [
    "Strong AUC score at .83. We’d want to compare this against other models to get a better idea of its competitiveness"
   ]
  },
  {
   "cell_type": "markdown",
   "metadata": {},
   "source": [
    "Let's also print out a final summary of the model we used:"
   ]
  },
  {
   "cell_type": "code",
   "execution_count": 283,
   "metadata": {},
   "outputs": [
    {
     "name": "stdout",
     "output_type": "stream",
     "text": [
      "____________________________________________________________________________________________________\n",
      "Layer (type)                     Output Shape          Param #     Connected to                     \n",
      "====================================================================================================\n",
      "input_27 (InputLayer)            (None, 2000)          0                                            \n",
      "____________________________________________________________________________________________________\n",
      "embedding_1 (Embedding)          (None, 2000, 200)     18663800    input_27[0][0]                   \n",
      "____________________________________________________________________________________________________\n",
      "dense_143 (Dense)                (None, 2000, 128)     25728       embedding_1[26][0]               \n",
      "____________________________________________________________________________________________________\n",
      "flatten_36 (Flatten)             (None, 256000)        0           dense_143[0][0]                  \n",
      "____________________________________________________________________________________________________\n",
      "dense_144 (Dense)                (None, 2000, 128)     25728       embedding_1[26][0]               \n",
      "____________________________________________________________________________________________________\n",
      "dense_151 (Dense)                (None, 128)           32768128    flatten_36[0][0]                 \n",
      "____________________________________________________________________________________________________\n",
      "flatten_37 (Flatten)             (None, 256000)        0           dense_144[0][0]                  \n",
      "____________________________________________________________________________________________________\n",
      "concatenate_37 (Concatenate)     (None, 256128)        0           dense_151[0][0]                  \n",
      "                                                                   flatten_37[0][0]                 \n",
      "____________________________________________________________________________________________________\n",
      "dense_145 (Dense)                (None, 2000, 128)     25728       embedding_1[26][0]               \n",
      "____________________________________________________________________________________________________\n",
      "dense_152 (Dense)                (None, 128)           32784512    concatenate_37[0][0]             \n",
      "____________________________________________________________________________________________________\n",
      "flatten_38 (Flatten)             (None, 256000)        0           dense_145[0][0]                  \n",
      "____________________________________________________________________________________________________\n",
      "concatenate_39 (Concatenate)     (None, 256256)        0           dense_151[0][0]                  \n",
      "                                                                   dense_152[0][0]                  \n",
      "                                                                   flatten_38[0][0]                 \n",
      "____________________________________________________________________________________________________\n",
      "dense_146 (Dense)                (None, 2000, 128)     25728       embedding_1[26][0]               \n",
      "____________________________________________________________________________________________________\n",
      "dense_154 (Dense)                (None, 128)           32800896    concatenate_39[0][0]             \n",
      "____________________________________________________________________________________________________\n",
      "flatten_39 (Flatten)             (None, 256000)        0           dense_146[0][0]                  \n",
      "____________________________________________________________________________________________________\n",
      "concatenate_40 (Concatenate)     (None, 256384)        0           dense_151[0][0]                  \n",
      "                                                                   dense_152[0][0]                  \n",
      "                                                                   dense_154[0][0]                  \n",
      "                                                                   flatten_39[0][0]                 \n",
      "____________________________________________________________________________________________________\n",
      "dense_147 (Dense)                (None, 2000, 128)     25728       embedding_1[26][0]               \n",
      "____________________________________________________________________________________________________\n",
      "dense_155 (Dense)                (None, 128)           32817280    concatenate_40[0][0]             \n",
      "____________________________________________________________________________________________________\n",
      "flatten_40 (Flatten)             (None, 256000)        0           dense_147[0][0]                  \n",
      "____________________________________________________________________________________________________\n",
      "concatenate_41 (Concatenate)     (None, 256512)        0           dense_151[0][0]                  \n",
      "                                                                   dense_152[0][0]                  \n",
      "                                                                   dense_154[0][0]                  \n",
      "                                                                   dense_155[0][0]                  \n",
      "                                                                   flatten_40[0][0]                 \n",
      "____________________________________________________________________________________________________\n",
      "dense_148 (Dense)                (None, 2000, 128)     25728       embedding_1[26][0]               \n",
      "____________________________________________________________________________________________________\n",
      "dense_156 (Dense)                (None, 128)           32833664    concatenate_41[0][0]             \n",
      "____________________________________________________________________________________________________\n",
      "flatten_41 (Flatten)             (None, 256000)        0           dense_148[0][0]                  \n",
      "____________________________________________________________________________________________________\n",
      "concatenate_42 (Concatenate)     (None, 256640)        0           dense_151[0][0]                  \n",
      "                                                                   dense_152[0][0]                  \n",
      "                                                                   dense_154[0][0]                  \n",
      "                                                                   dense_155[0][0]                  \n",
      "                                                                   dense_156[0][0]                  \n",
      "                                                                   flatten_41[0][0]                 \n",
      "____________________________________________________________________________________________________\n",
      "dense_149 (Dense)                (None, 2000, 128)     25728       embedding_1[26][0]               \n",
      "____________________________________________________________________________________________________\n",
      "dense_157 (Dense)                (None, 128)           32850048    concatenate_42[0][0]             \n",
      "____________________________________________________________________________________________________\n",
      "flatten_42 (Flatten)             (None, 256000)        0           dense_149[0][0]                  \n",
      "____________________________________________________________________________________________________\n",
      "dense_150 (Dense)                (None, 2000, 128)     25728       embedding_1[26][0]               \n",
      "____________________________________________________________________________________________________\n",
      "concatenate_43 (Concatenate)     (None, 256768)        0           dense_151[0][0]                  \n",
      "                                                                   dense_152[0][0]                  \n",
      "                                                                   dense_154[0][0]                  \n",
      "                                                                   dense_155[0][0]                  \n",
      "                                                                   dense_156[0][0]                  \n",
      "                                                                   dense_157[0][0]                  \n",
      "                                                                   flatten_42[0][0]                 \n",
      "____________________________________________________________________________________________________\n",
      "flatten_43 (Flatten)             (None, 256000)        0           dense_150[0][0]                  \n",
      "____________________________________________________________________________________________________\n",
      "dense_158 (Dense)                (None, 128)           32866432    concatenate_43[0][0]             \n",
      "____________________________________________________________________________________________________\n",
      "dense_159 (Dense)                (None, 128)           32768128    flatten_43[0][0]                 \n",
      "____________________________________________________________________________________________________\n",
      "concatenate_44 (Concatenate)     (None, 1024)          0           dense_151[0][0]                  \n",
      "                                                                   dense_152[0][0]                  \n",
      "                                                                   dense_154[0][0]                  \n",
      "                                                                   dense_155[0][0]                  \n",
      "                                                                   dense_156[0][0]                  \n",
      "                                                                   dense_157[0][0]                  \n",
      "                                                                   dense_158[0][0]                  \n",
      "                                                                   dense_159[0][0]                  \n",
      "____________________________________________________________________________________________________\n",
      "dense_160 (Dense)                (None, 128)           131200      concatenate_44[0][0]             \n",
      "____________________________________________________________________________________________________\n",
      "dropout_18 (Dropout)             (None, 128)           0           dense_160[0][0]                  \n",
      "____________________________________________________________________________________________________\n",
      "dense_161 (Dense)                (None, 128)           16512       dropout_18[0][0]                 \n",
      "____________________________________________________________________________________________________\n",
      "dropout_19 (Dropout)             (None, 128)           0           dense_161[0][0]                  \n",
      "____________________________________________________________________________________________________\n",
      "dense_162 (Dense)                (None, 1)             129         dropout_19[0][0]                 \n",
      "====================================================================================================\n",
      "Total params: 281,506,553\n",
      "Trainable params: 262,842,753\n",
      "Non-trainable params: 18,663,800\n",
      "____________________________________________________________________________________________________\n"
     ]
    }
   ],
   "source": [
    "model.summary()"
   ]
  },
  {
   "cell_type": "markdown",
   "metadata": {},
   "source": [
    "## Next steps\n",
    "\n",
    "There are a few clear areas for improvement in the analysis here, and for evaluating the performance of the end-to-end MVN architecture:\n",
    "1. Train on a larger corpus, with less class imbalance.\n",
    "2. Replace first set of dense layers with convolutional layers, which may allow the next set of view layers to pick out more meaning.\n",
    "3. Lower the learning rate to what they used in the paper, and set this up to run on a GPU.  Would likely achieve higher performance.\n"
   ]
  },
  {
   "cell_type": "code",
   "execution_count": null,
   "metadata": {
    "collapsed": true
   },
   "outputs": [],
   "source": []
  },
  {
   "cell_type": "code",
   "execution_count": null,
   "metadata": {
    "collapsed": true
   },
   "outputs": [],
   "source": []
  },
  {
   "cell_type": "code",
   "execution_count": null,
   "metadata": {
    "collapsed": true
   },
   "outputs": [],
   "source": []
  },
  {
   "cell_type": "code",
   "execution_count": null,
   "metadata": {
    "collapsed": true
   },
   "outputs": [],
   "source": []
  },
  {
   "cell_type": "code",
   "execution_count": null,
   "metadata": {
    "collapsed": true
   },
   "outputs": [],
   "source": []
  },
  {
   "cell_type": "code",
   "execution_count": null,
   "metadata": {
    "collapsed": true
   },
   "outputs": [],
   "source": []
  }
 ],
 "metadata": {
  "kernelspec": {
   "display_name": "Python 2",
   "language": "python",
   "name": "python2"
  },
  "language_info": {
   "codemirror_mode": {
    "name": "ipython",
    "version": 2
   },
   "file_extension": ".py",
   "mimetype": "text/x-python",
   "name": "python",
   "nbconvert_exporter": "python",
   "pygments_lexer": "ipython2",
   "version": "2.7.12"
  }
 },
 "nbformat": 4,
 "nbformat_minor": 2
}
